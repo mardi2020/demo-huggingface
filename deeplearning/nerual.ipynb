{
 "cells": [
  {
   "cell_type": "code",
   "execution_count": 1,
   "id": "initial_id",
   "metadata": {
    "collapsed": true,
    "ExecuteTime": {
     "end_time": "2025-02-16T09:52:46.664089Z",
     "start_time": "2025-02-16T09:52:46.467157Z"
    }
   },
   "outputs": [],
   "source": [
    "import numpy as np\n",
    "import matplotlib.pyplot as plt"
   ]
  },
  {
   "cell_type": "markdown",
   "source": [
    "### sigmoid 함수 정의\n",
    "> 선형 변환을 비선형 효과를 부여하는 활성화 함수 중 하나, 0 ~ 1 사이의 실수로 출력\n",
    "\n",
    "$$\n",
    "\\sigma(x) = \\frac{1}{1 + e^{-x}}\n",
    "$$"
   ],
   "metadata": {
    "collapsed": false
   },
   "id": "e7472c4596625315"
  },
  {
   "cell_type": "code",
   "outputs": [],
   "source": [
    "def sigmoid(x):\n",
    "    return 1 / (1 + np.exp(-x))"
   ],
   "metadata": {
    "collapsed": false,
    "ExecuteTime": {
     "end_time": "2025-02-16T04:25:56.847311Z",
     "start_time": "2025-02-16T04:25:56.844737Z"
    }
   },
   "id": "1545deb21f4c0555",
   "execution_count": 2
  },
  {
   "cell_type": "code",
   "outputs": [
    {
     "data": {
      "text/plain": "<Figure size 640x480 with 1 Axes>",
      "image/png": "[encoded data removed]"
     },
     "metadata": {},
     "output_type": "display_data"
    }
   ],
   "source": [
    "# x 값 범위 설정\n",
    "x = np.linspace(-10, 10, 400)\n",
    "y = sigmoid(x)\n",
    "\n",
    "# 그래프 그리기\n",
    "plt.plot(x, y, label=\"Sigmoid Function\", color=\"blue\")\n",
    "plt.axhline(0.5, color='red', linestyle='dashed', linewidth=0.8, label=\"y = 0.5\")\n",
    "plt.axvline(0, color='black', linestyle='dotted', linewidth=0.8, label=\"x = 0\")\n",
    "plt.xlabel(\"x\")\n",
    "plt.ylabel(\"y\")\n",
    "plt.title(\"Sigmoid Function\")\n",
    "plt.legend()\n",
    "plt.grid()\n",
    "plt.show()"
   ],
   "metadata": {
    "collapsed": false,
    "ExecuteTime": {
     "end_time": "2025-02-16T04:28:57.701499Z",
     "start_time": "2025-02-16T04:28:57.616078Z"
    }
   },
   "id": "4c082562278b464c",
   "execution_count": 4
  },
  {
   "cell_type": "code",
   "outputs": [],
   "source": [
    "\"은닉층 뉴런은 4개, 출력층의 뉴런은 3개이므로 완전연결계층에 사용되는 가중치 행렬은 4*3 형상으로 설정\"\n",
    "x = np.random.randn(10, 2) # 입력 - 2차원 데이터 10개가 미니배치로 처리\n",
    "w_1 = np.random.randn(2, 4) # 가중치\n",
    "b_1 = np.random.randn(4) # 편향\n",
    "w_2 = np.random.randn(4, 3) # 가중치\n",
    "b_2 = np.random.randn(3) # 편향\n",
    "\n",
    "h = np.matmul(x, w_1) + b_1\n",
    "\"은닉층 뉴런을 시그모이드 함수를 통하여 비선형 변환\"\n",
    "a = sigmoid(h) # a: activation, 활성화\n",
    "s = np.matmul(a, w_2) + b_2 # 최종 출력, 형상은 (10, 3) - 10개의 데이터가 한꺼번에 처리되고 3차원 데이터로 변환됨"
   ],
   "metadata": {
    "collapsed": false,
    "ExecuteTime": {
     "end_time": "2025-02-16T04:41:39.097132Z",
     "start_time": "2025-02-16T04:41:39.094218Z"
    }
   },
   "id": "ad35be030b295dde",
   "execution_count": 16
  },
  {
   "cell_type": "markdown",
   "source": [
    "이 신경망은 3차원 데이터를 출력하고, 각 차원의 값을 이용해 3 클래스 분류가 가능함\n",
    "출력된 3차원 벡터의 각 차원은 각 클래스에 대응하는 score가 되고 출력층에서 가장 큰 값을 내뱉는 뉴런에 해당하는 클래스가 예측 결과가 됨\n",
    "\n",
    "* score는 확률이 되기 전의 값임\n",
    "* 점수가 높을수록 그 뉴런에 해당하는 클래스의 확률도 높아짐\n",
    "* 점수를 softmax function에 입력하면 확률을 얻을 수 있음"
   ],
   "metadata": {
    "collapsed": false
   },
   "id": "e4772a1b316f440b"
  },
  {
   "cell_type": "markdown",
   "source": [
    "구현 규칙\n",
    "- **모든 계층은 forward, backward 메서드를 가짐**\n",
    "    - forward: 순전파\n",
    "    - backward: 역전파\n",
    "- **모든 계층은 인스턴스 변수인 params와 grads를 가짐**\n",
    "    - params: 가중치와 편향 같은 매개변수를 담는 리스트\n",
    "    - grads: params에 저장된 각 매개변수에 대응해 매개변수의 기울기를 보관하는 리스트\n",
    "\n",
    "신경망 추론 과정에서 하는 처리는 신경망의 순전파(forward propagation)에 해당함\n",
    "- 순전파: 입력층에서 출력층으로 향하는 전파\n",
    "- 역전파: 데이터(기울기)를 순전파와는 반대 방향으로 전파"
   ],
   "metadata": {
    "collapsed": false
   },
   "id": "7114bbfcbc825e9a"
  },
  {
   "cell_type": "code",
   "outputs": [],
   "source": [
    "\"\"\"\n",
    "- 완전연결계층에 의한 변환을 Affine 계층으로, sigmoid에 의한 변환을 sigmoid 계층으로 구현\n",
    "- 기본 변환을 수행하는 메서드 forward()\n",
    "\"\"\"\n",
    "\n",
    "class Sigmoid:\n",
    "    def __init__(self):\n",
    "        self.params = []\n",
    "    \n",
    "    def forward(self, x):\n",
    "        return 1 / (1 + np.exp(-x))\n",
    "    \n",
    "\n",
    "class Affine:\n",
    "    # 초기화될 때 가중치와 편향을 받음 - 신경망이 학습될 때 수시로 갱신됨\n",
    "    def __init__(self, W, b):\n",
    "        self.params = [W, b]\n",
    "    \n",
    "    def forward(self, x):\n",
    "        W, b = self.params\n",
    "        out = np.matmul(x, W) + b\n",
    "        return out"
   ],
   "metadata": {
    "collapsed": false,
    "ExecuteTime": {
     "end_time": "2025-02-16T04:50:47.818152Z",
     "start_time": "2025-02-16T04:50:47.813788Z"
    }
   },
   "id": "ebaa37252d9ddccd",
   "execution_count": 18
  },
  {
   "cell_type": "markdown",
   "source": [
    "### 구현할 신경망(TwoLayerNet)의 계층 구성\n",
    "\n",
    "$$\n",
    "X -> Affine -> Sigmoid -> Affine -> S\n",
    "$$\n",
    "\n",
    "input: X가 affine, sigmoid, affine을 거쳐 점수 S 출력"
   ],
   "metadata": {
    "collapsed": false
   },
   "id": "c9e23699b4c1cacb"
  },
  {
   "cell_type": "code",
   "outputs": [],
   "source": [
    "class TwoLayerNet:\n",
    "    \"\"\"\n",
    "    가중치 초기화 및 3개의 계층 생성\n",
    "    input_size: 입력층 뉴런 수\n",
    "    hidden_size: 은닉층 뉴런 수\n",
    "    output_size: 출력층 뉴런 수\n",
    "    \"\"\"\n",
    "    def __init__(self, input_size, hidden_size, output_size):\n",
    "        I, H, O = input_size, hidden_size, output_size\n",
    "        \n",
    "        # 정규 분포를 따르는 랜덤 값으로 초기화\n",
    "        w_1 = np.random.randn(I, H) # 입력층 -> 은닉층 연결 가중치 I * H\n",
    "        b_1 = np.random.randn(H)  # 은닉층 편향 H\n",
    "        w_2 = np.random.randn(H, O) # 은닉층 -> 출력층 연결 가중치 H * O\n",
    "        b_2 = np.random.randn(O) # 출력층의 편향 O\n",
    "        \n",
    "        self.layers = [\n",
    "            Affine(w_1, b_1), # 선형 변환 계층 (입력 -> 은닉층)\n",
    "            Sigmoid(), # 비선형 활성화 함수 계층\n",
    "            Affine(w_2, b_2) # 선형 변환 계층 (은닉층 -> 출력층)\n",
    "        ]\n",
    "        \n",
    "        # 학습해야 할 모든 가중치를 리스트에 모음\n",
    "        self.params = []\n",
    "        for layer in self.layers:\n",
    "            self.params += layer.params\n",
    "    \n",
    "    \"순전파\"\n",
    "    def predict(self, x):\n",
    "        # 입력 x를 순차적으로 각 계층에 통과시키며 순전파 수행\n",
    "        for layer in self.layers:\n",
    "            x = layer.forward(x)\n",
    "        return x # 최종 출력값 반환"
   ],
   "metadata": {
    "collapsed": false,
    "ExecuteTime": {
     "end_time": "2025-02-16T05:39:52.320973Z",
     "start_time": "2025-02-16T05:39:52.316241Z"
    }
   },
   "id": "f632acf5dc72c05d",
   "execution_count": 20
  },
  {
   "cell_type": "code",
   "outputs": [
    {
     "data": {
      "text/plain": "array([[ 2.29955785, -0.80216072,  1.74146422],\n       [ 3.04572318,  0.12921569,  3.02420303],\n       [ 3.75122376, -1.11512149,  4.15472076],\n       [ 3.80650683, -0.78530621,  3.95492371],\n       [ 3.28794744,  0.5355063 ,  3.57565178],\n       [ 3.47877838, -0.2408703 ,  3.0800183 ],\n       [ 3.23756319,  0.13611286,  3.12253667],\n       [ 3.10416248, -0.11644991,  2.77095821],\n       [ 2.75507256, -0.54416709,  2.21655067],\n       [ 4.06221483, -0.27809365,  4.18075792]])"
     },
     "execution_count": 23,
     "metadata": {},
     "output_type": "execute_result"
    }
   ],
   "source": [
    "# 신경망 추론 수행\n",
    "x = np.random.randn(10, 2)\n",
    "model = TwoLayerNet(2, 4, 3)\n",
    "s = model.predict(x)\n",
    "s"
   ],
   "metadata": {
    "collapsed": false,
    "ExecuteTime": {
     "end_time": "2025-02-16T05:40:59.344681Z",
     "start_time": "2025-02-16T05:40:59.341214Z"
    }
   },
   "id": "d39b9ac35d97df5f",
   "execution_count": 23
  },
  {
   "cell_type": "markdown",
   "source": [
    "### 손실 함수\n",
    "손실(loss): 학습 단계의 특정 시점에서 신경망의 성능을 나타내는 척도\n",
    "\n",
    "손실은 학습 데이터와 신경망이 예측한 결과를 비교하여 예측이 얼마나 나쁜가를 산출한 단일 값(스칼라)\n",
    "- loss function을 통해 신경망의 손실을 구함\n",
    "- 다중 클래스 분류 신경망에서는 손실 함수로 cross entropy error를 이용 -> 신경망이 출력하는 각 클래스의 확률과 정답 레이블을 이용해 구할 수 있음\n",
    "\n",
    "#### 손실 함수를 적용한 신경망의 계층 구성\n",
    "$$\n",
    "t(정답레이블)\n",
    "$$\n",
    "$$\n",
    "X -> Affine -> Sigmoid -> Affine -> Softmax -> Cross Entropy Error -> L\n",
    "$$\n",
    "\n",
    "- x: input\n",
    "- t: 정답레이블\n",
    "- L: 손실\n",
    "\n",
    "softmax 계층의 출력은 확률이 되어 다음 계층인 Cross Entropy Error 계층에는 확률과 정답 레이블이 입력됨"
   ],
   "metadata": {
    "collapsed": false
   },
   "id": "abb8f333d733c3bc"
  },
  {
   "cell_type": "markdown",
   "source": [
    "### softmax 함수\n",
    "\n",
    "$$\n",
    "y_k = \\frac{\\exp(s_k)}{\\sum_{i=1}^{n} \\exp(s_i)}\n",
    "$$\n",
    "\n",
    "출력이 n개일 때, k번째의 출력 $y_k$를 구하는 계산식\n",
    "- $y_k$는 k번째 클래스에 해당하는 소프트맥스 함수의 출력\n",
    "\n",
    "소프트맥스 함수의 출력의 각 원소는 0.0 ~ 1.0 이하의 실수 -> 그 원소들을 모두 더하면 1.0\n",
    "- 소프트맥스의 출력을 확률로 해석할 수 있는 이유\n",
    "\n",
    "소프트맥스의 출력인 이 확률이 다음 차례인 교차 엔트로피 오차에 입력됨\n",
    "\n",
    "### 교차 엔트로피 오차\n",
    "$$\n",
    "L = -\\sum_{k} t_k \\log y_k\n",
    "$$\n",
    "- $t_k$: k번째 클래스에 해당하는 정답 레이블\n",
    "- 정답 레이블 t = [0, 0, 1] 과 같이 one hot 벡터로 표기(원소 하나만 1, 나머지는 다 0인 벡터이며 1이면 정답)\n",
    "\n",
    "미니 배치를 고려한 교차 엔트로피 오차의 식 -> 평균 손실함수를 구함\n",
    "$$\n",
    "L = -\\frac{1}{N} \\sum_{n} \\sum_{k} t_{nk} \\log y_{nk}\n",
    "$$\n",
    "- 데이터는 N개\n",
    " - $t_{nk}$ 는 n번째 데이터의 k차원째의 값\n",
    "- $y_{nk}$는 신경망의 출력\n",
    "- $t_{nk}$는 정답레이블"
   ],
   "metadata": {
    "collapsed": false
   },
   "id": "44848713ddce66da"
  },
  {
   "cell_type": "markdown",
   "source": [
    "### 미분과 기울기\n",
    "> 신경망 학습의 목표: 손실을 최소화하는 매개변수를 찾는 것\n",
    "\n",
    "행렬에서의 기울기\n",
    "$W = m * n$ 행렬에서 $L = g(W)$ 함수의 기울기:\n",
    "$$\n",
    "\\frac{\\partial L}{\\partial \\mathbf{W}} =\n",
    "\\begin{bmatrix}\n",
    "\\frac{\\partial L}{\\partial W_{11}} & \\cdots & \\frac{\\partial L}{\\partial W_{1n}} \\\\\n",
    "\\vdots & \\ddots & \\vdots \\\\\n",
    "\\frac{\\partial L}{\\partial W_{m1}} & \\cdots & \\frac{\\partial L}{\\partial W_{mn}}\n",
    "\\end{bmatrix}\n",
    "$$\n",
    "- 각 원소  $\\frac{\\partial L}{\\partial W_{ij}}$ 는 개별 가중치  $W_{ij}$가 변화할 때 손실 L이 얼마나 변하는지를 나타냅니다.\n",
    "\n",
    "W와 $\\frac{\\partial L}{\\partial \\mathbf{W}}$ 의 형상이 같고 `행렬과 그 기우기의 형상이 같다` 성질을 이용해 매개변수 갱신과 연쇄 법칙을 쉽게 구현 가능"
   ],
   "metadata": {
    "collapsed": false
   },
   "id": "1c839cdb490da598"
  },
  {
   "cell_type": "markdown",
   "source": [
    "### 행렬에서의 기울기(Gradient)\n",
    "\n",
    "행렬에서의 기울기(Gradient)는 행렬을 구성하는 각 원소에 대한 미분 값을 의미하며, 보통 손실 함수(Loss Function) L를 특정 행렬 W에 대해 미분한 결과를 나타냅니다.\n",
    "즉, 행렬의 각 요소가 변경될 때 손실 함수가 얼마나 변하는지를 나타내는 것입니다.\n",
    "\n",
    "### 행렬 기울기의 의미\n",
    "행렬에서 기울기: 각 가중치 요소별로 손실 함수가 증가하거나 감소하는 방향을 나타내는 값\n",
    "\t•\t값이 양수: 손실  L  이 증가하는 방향 → 이 가중치를 줄여야 함\n",
    "\t•\t값이 음수: 손실  L  이 감소하는 방향 → 이 가중치를 증가시켜야 함\n",
    "\t•\t값이 0: 해당 가중치 변화가 손실에 영향을 거의 주지 않음\n",
    "\n",
    "이 개념은 경사 하강법 (Gradient Descent) 에서 중요하게 사용됩니다.\n",
    "즉, 행렬 형태의 기울기를 계산한 후, 그 방향으로 가중치를 업데이트하여 손실을 최소화하는 방향으로 학습합니다.\n",
    "\n",
    "-> 즉, 행렬의 기울기는 신경망 학습에서 “어떻게 가중치를 변경해야 손실을 줄일 수 있는지”를 알려줌"
   ],
   "metadata": {
    "collapsed": false
   },
   "id": "8eabc2e211c02022"
  },
  {
   "cell_type": "markdown",
   "source": [
    "### 연쇄법칙\n",
    "\n",
    "연쇄법칙은 composite function 의 미분을 계산하는 방법 => 합성함수의 미분은 각 단계의 미분을 곱해서 구할 수 있다는 원리\n",
    "$$\n",
    "\\frac{dz}{dx} = \\frac{dz}{dy} \\cdot \\frac{dy}{dx}\n",
    "$$\n",
    "\n",
    "### 오차역전파법\n",
    "\n",
    "오차역전파법은 신경망에서 연쇄법칙을 이용해 가중치의 기울기를 계산하는 방법\n",
    "\n",
    "신경망에서는 입력x  가 여러 층을 거쳐 최종적으로 손실  L  에 영향을 주는 복잡한 합성함수 형태를 가짐\n",
    "$$\n",
    "\n",
    "L = f_3(f_2(f_1(x)))\n",
    "\n",
    "$$\n",
    "를 미분할 때, 각 층을 거치면서 미분을 계산해야 하므로 연쇄법칙이 필수적으로 사용됨\n",
    "\n",
    "![](./src/forward_back.png)"
   ],
   "metadata": {
    "collapsed": false
   },
   "id": "698a31fcc2b374"
  },
  {
   "cell_type": "markdown",
   "source": [
    "### Repeat 노드의 순전파, 역전파\n",
    "![](src/repeat_node.png)"
   ],
   "metadata": {
    "collapsed": false
   },
   "id": "177ec00e1224c071"
  },
  {
   "cell_type": "code",
   "outputs": [],
   "source": [
    "D, N = 8, 7\n",
    "x = np.random.randn(1, D) # 입력\n",
    "y = np.repeat(x, N, axis=0) # 순전파 - 원소 복제 수행 배열x를 N번 복제\n",
    "dy = np.random.randn(N, D) # 무작위 기울기\n",
    "dx = np.sum(dy, axis=0, keepdims=True) # 역전파 - 차원수 유지"
   ],
   "metadata": {
    "collapsed": false,
    "ExecuteTime": {
     "end_time": "2025-02-16T06:36:21.977672Z",
     "start_time": "2025-02-16T06:36:21.975537Z"
    }
   },
   "id": "3de5a6c795e8bd19",
   "execution_count": 29
  },
  {
   "cell_type": "markdown",
   "source": [
    "### MatMul 노드\n",
    "\n",
    "![](./src/matmul.png)\n",
    "\n",
    "$$\n",
    "y = xW\n",
    "$$ \n",
    "\n",
    "손실함수 L이 주어졌을 때, 입력 x에 대한 손실의 변화량$\\frac{\\partial L}{\\partial \\mathbf{x}}$을 구해야함\n",
    "\n",
    "연쇄법칙을 적용하여 L을 x에 대해 미분하면\n",
    "\n",
    "$$\n",
    "\\frac{\\partial L}{\\partial \\mathbf{x}} = \\sum_j \\frac{\\partial L}{\\partial y_j} \\frac{\\partial y_j}{\\partial \\mathbf{x}}\n",
    "$$\n",
    "\n",
    "y가 MatMul 연산에 의해 계산되어\n",
    "$$\n",
    "\\frac{\\partial y_j}{\\partial x_i} = W_{ij}\n",
    "$$\n",
    "즉, 가중치 W가 직접적으로 미분값에 영향을 줌\n",
    "\n",
    "행렬 연산으로 표현하면\n",
    "$$\n",
    "\n",
    "\\frac{\\partial L}{\\partial \\mathbf{x}} = \\frac{\\partial L}{\\partial \\mathbf{y}} \\mathbf{W}^T\n",
    "$$\n",
    "\n",
    "전치행렬이 필요한 이유\n",
    "- 역전파 과정에서 입력 x와 출력 y가 서로 다른 크기를 갖고 있어서 올바른 차원으로 변환하려면 transpose가 필요함\n",
    "\n",
    "1. MatMul의 forward\n",
    "\n",
    "$$\n",
    "\n",
    "\\mathbf{y} = \\mathbf{x} \\mathbf{W} \\quad (1 \\times D) \\times (D \\times H) = (1 \\times H)\n",
    "\n",
    "$$\n",
    "\n",
    "2. MatMul의 backward\n",
    "\n",
    "$$\n",
    "\\frac{\\partial L}{\\partial \\mathbf{x}} = \\frac{\\partial L}{\\partial \\mathbf{y}} \\mathbf{W}^T \\quad\n",
    " (1 \\times H) \\times (H \\times D) = (1 \\times D)\n",
    "\n",
    "$$\n",
    "\n",
    "MatMul 역전파는 역추적 과정을 하는 것과 비슷합니다.\n",
    "\t•\t순전파에서는  x  가  W  를 거쳐서  y  가 나옵니다.\n",
    "\t•\t하지만 역전파할 때는 반대 방향으로 전달해야 하기 때문에  W  를 다시 되돌리는 과정이 필요합니다.\n",
    "\t•\t그런데 행렬 곱셈에서는 되돌릴 때 단순히  W  를 그대로 쓰면 안 되고, 전치(Transpose) 를 해서 올바른 방향으로 변환해야 합니다.\n",
    "\n",
    "💡 즉, MatMul의 역전파는 “전치 행렬을 이용해 원래 입력 방향으로 영향을 돌려주는 과정”이라고 생각하면 됩니다! 🚀"
   ],
   "metadata": {
    "collapsed": false
   },
   "id": "25ac651e1f6d420f"
  },
  {
   "cell_type": "code",
   "outputs": [],
   "source": [
    "class MatMul:\n",
    "    def __init__(self, W):\n",
    "        self.params = [W]\n",
    "        self.grads = [np.zeros_like(W)]\n",
    "        self.x = None\n",
    "    \n",
    "    def forward(self, x):\n",
    "        W, = self.params\n",
    "        out = np.matmul(x, W)\n",
    "        self.x = x\n",
    "        return out\n",
    "    \n",
    "    def backward(self, dout):\n",
    "        W, = self.params\n",
    "        dx = np.matmul(dout, W.T)\n",
    "        dW = np.matmul(self.x.T, dout)\n",
    "        self.grads[0][...] = dW\n",
    "        return dx"
   ],
   "metadata": {
    "collapsed": false,
    "ExecuteTime": {
     "end_time": "2025-02-16T10:03:59.436856Z",
     "start_time": "2025-02-16T10:03:59.433613Z"
    }
   },
   "id": "ee9ae715f69b2220",
   "execution_count": 15
  },
  {
   "cell_type": "code",
   "outputs": [],
   "source": [
    "class Sigmoid:\n",
    "    def __init__(self):\n",
    "        self.params, self.grads = [], []\n",
    "        self.out = None\n",
    "        \n",
    "    \n",
    "    def forward(self, x):\n",
    "        out = 1 / (1 + np.exp(-x))\n",
    "        self.out = out\n",
    "        return out\n",
    "    \n",
    "    def backward(self, dout):\n",
    "        dx = dout * (1.0 - self.out) * self.out\n",
    "        return dx"
   ],
   "metadata": {
    "collapsed": false,
    "ExecuteTime": {
     "end_time": "2025-02-16T10:03:58.518274Z",
     "start_time": "2025-02-16T10:03:58.515198Z"
    }
   },
   "id": "d891e0d333d43e9d",
   "execution_count": 14
  },
  {
   "cell_type": "markdown",
   "source": [
    "### Affine 계층 구조 분석\n",
    "입력 x가 가중치 W와 곱해지고 편향 b가 더해져서 출력 z가 생성됨\n",
    "$$\n",
    "z = xW + b\n",
    "$$\n",
    "\n",
    "#### MatMul 행렬곱셈\n",
    "- 각 입력 샘플이 가중치 행렬과 곱해져 변환된 값 y를 얻는다\n",
    "$$\n",
    "y = xW\n",
    "$$\n",
    "\n",
    "✅ MatMul 사용 이유\n",
    "-   연산을 통해 모든 샘플을 동시에 변환할 수 있음 (행렬 연산의 강점 활용)\n",
    "\n",
    "#### Repeat 연산\n",
    "- 편향 b는 크기가 H인 벡터 (1차원 벡터) 를 N * H 크기 형태로 변환해야 함\n",
    "- 편향 b를 N개의 행으로 복제해 N * H 크기의 행렬 b로 만들면, 행렬 y와 편향을 더할 수 있게 됨\n",
    "$$\n",
    "b \\rightarrow (N \\times H)\n",
    "$$\n",
    "\n",
    "✅ Repeat 사용 이유\n",
    "- 편향 b는 원래 벡터인데, y와 크기를 맞추기 위해 반복(복제)해야 함\n",
    "\n",
    "#### 덧셈 연산\n",
    "$$\n",
    "z = y + b\n",
    "$$\n",
    "z, y, b 모두 N * H의 크기를 가져 더할 수 있음 -> 최종적으로 활성화 함수를 거쳐 다음 층으로 전달됨\n",
    "\n",
    "✅ 덧셈을 마지막에 수행하는 이유\n",
    "- 편향을 적용하는 것은 선형 변환 후에 더하는 과정이므로 마지막 단계에서 수행\n",
    "\n",
    "이러한 구조를 사용하는 이유: 차원 일관성 유지"
   ],
   "metadata": {
    "collapsed": false
   },
   "id": "c716fd79103e475a"
  },
  {
   "cell_type": "code",
   "outputs": [],
   "source": [
    "class Affine:\n",
    "    def __init__(self, W, b):\n",
    "        self.params, self.grads = [W, b], [np.zeros_like(W), np.zeros_like(b)]\n",
    "        self.x = None\n",
    "        \n",
    "    def forward(self, x):\n",
    "        W, b = self.params\n",
    "        out = np.matmul(x, W) + b\n",
    "        self.x = x\n",
    "        return out\n",
    "    \n",
    "    def backward(self, dout):\n",
    "        W, b = self.params\n",
    "        dx = np.matmul(dout, W.T)\n",
    "        dW = np.matmul(self.x.T, dout)\n",
    "        db = np.sum(dout, axis=0)\n",
    "        \n",
    "        self.grads[0][...] = dW\n",
    "        self.grads[1][...] = db\n",
    "        return dx"
   ],
   "metadata": {
    "collapsed": false,
    "ExecuteTime": {
     "end_time": "2025-02-16T10:43:08.204310Z",
     "start_time": "2025-02-16T10:43:08.201799Z"
    }
   },
   "id": "cc58748ae94efac4",
   "execution_count": 63
  },
  {
   "cell_type": "markdown",
   "source": [
    "### 가중치 갱신\n",
    "오차역전파법으로 기울기를 구하고 나서 그 기울기를 사용해 신경망의 매개변수를 갱신함\n",
    "\n",
    "1. 미니배치 - 훈련 데이터 중 무작위로 다수 데이터를 골라냄\n",
    "2. 기울기 계산 - 오차역전파법으로 각 가중치 매개변수에 대한 손실 함수의 기울기를 구함\n",
    "    - 현재의 가중치 매개변수에서 손실을 가장 크게 하는 방향을 가리킴\n",
    "3. 매개변수 갱신 - 기울기를 사용하여 가중치 매개변수 갱신\n",
    "    - 경사하강법(GD): 매개변수를 그 기울기와 반대 방향으로 갱신하면 손실을 줄일 수 있음\n",
    "    - 가중치 갱신 기법 중 하나 `확률적경사하강법(SGD)`\n",
    "        - 확률적: 무작위로 선택된 데이터에 대한 기울기를 이용\n",
    "4. 1~3단계 반복\n",
    "\n",
    "#### SGD\n",
    "> 한개의 샘플을 무작위로 선택하여 기울기를 계산하고 가중치를 갱신하는 방식\n",
    "\n",
    "$$\n",
    "W \\leftarrow W - \\eta \\nabla L_i\n",
    "$$"
   ],
   "metadata": {
    "collapsed": false
   },
   "id": "2f142a90e7573922"
  },
  {
   "cell_type": "code",
   "outputs": [],
   "source": [
    "class SGD:\n",
    "    def __init__(self, lr=0.01):\n",
    "        self.lr = lr # 학습률\n",
    "    \n",
    "    \"\"\"\n",
    "    매개변수 갱신\n",
    "    params: 신경망의 가중치\n",
    "    grads: 기울기\n",
    "    \"\"\"\n",
    "    def update(self, params, grads):\n",
    "        for i in range(len(params)):\n",
    "            params[i] -= self.lr * grads[i]"
   ],
   "metadata": {
    "collapsed": false,
    "ExecuteTime": {
     "end_time": "2025-02-16T10:42:17.418346Z",
     "start_time": "2025-02-16T10:42:17.416461Z"
    }
   },
   "id": "1d9128bb9b1b95ea",
   "execution_count": 56
  },
  {
   "cell_type": "code",
   "outputs": [],
   "source": [
    "def softmax(x):\n",
    "    if x.ndim == 2:\n",
    "        # overflow를 막기 위해 입력값 중 \n",
    "        # 최대값을 빼준다. >> 밑러닝-1, 3.5.2 참고\n",
    "        x -= x.max(axis=1, keepdims=True)\n",
    "        x = np.exp(x)\n",
    "        x /= x.sum(axis=1, keepdims=True)\n",
    "    elif x.ndim == 1:\n",
    "        x -= np.max(x)\n",
    "        x = np.exp(x) / np.sum(np.exp(x))\n",
    "\n",
    "    return x\n",
    "\n",
    "\n",
    "def cross_entropy_error(y, t):\n",
    "    if y.ndim == 1:\n",
    "        t = t.reshape(1, t.size)\n",
    "        y = y.reshape(1, y.size)\n",
    "\n",
    "    # 정답 데이터가 원핫 벡터일 경우 정답 레이블 인덱스로 변환\n",
    "    if t.size == y.size:\n",
    "        t = t.argmax(axis=1)\n",
    "    \n",
    "    batch_size = y.shape[0]\n",
    "\n",
    "    cross_entropy = np.log(y[np.arange(batch_size), t] + 1e-7)\n",
    "    loss = -np.sum(cross_entropy) / batch_size\n",
    "    \n",
    "    return loss\n",
    "\n",
    "class SoftmaxWithLoss:\n",
    "    def __init__(self):\n",
    "        self.params, self.grads = [], []\n",
    "        self.y = None  # softmax의 출력\n",
    "        self.t = None  # 정답 레이블\n",
    "\n",
    "    def forward(self, x, t):\n",
    "        self.t = t\n",
    "        self.y = softmax(x)\n",
    "\n",
    "        # 정답 레이블이 원핫 벡터일 경우 정답의 인덱스로 변환\n",
    "        # cross_entropy_error()에 이미 있어서 굳이 필요 없을 듯\n",
    "        if self.t.size == self.y.size:\n",
    "            self.t = self.t. argmax(axis=1)\n",
    "\n",
    "        loss = cross_entropy_error(self.y, self.t)\n",
    "        return loss\n",
    "\n",
    "    def backward(self, dout=1):\n",
    "        batch_size = self.t.shape[0]\n",
    "\n",
    "        dx = self.y.copy()\n",
    "        dx[np.arange(batch_size), self.t] -= 1\n",
    "        dx *= dout\n",
    "        dx /= batch_size\n",
    "\n",
    "        return dx"
   ],
   "metadata": {
    "collapsed": false,
    "ExecuteTime": {
     "end_time": "2025-02-16T10:42:18.201492Z",
     "start_time": "2025-02-16T10:42:18.197260Z"
    }
   },
   "id": "c2aa3da7a0b34b72",
   "execution_count": 57
  },
  {
   "cell_type": "code",
   "outputs": [],
   "source": [
    "class TwoLayerNet:\n",
    "    def __init__(self, input_size, hidden_size, output_size):\n",
    "        I, H, O = input_size, hidden_size, output_size\n",
    "        \n",
    "        w1 = 0.01 * np.random.randn(I, H)\n",
    "        b1 = np.zeros(H)\n",
    "        w2 = 0.01 * np.random.randn(H, O)\n",
    "        b2 = np.zeros(O)\n",
    "        \n",
    "        self.layers = [\n",
    "            Affine(w1, b1),\n",
    "            Sigmoid(),\n",
    "            Affine(w2, b2)\n",
    "        ]\n",
    "        \n",
    "        self.loss_layer = SoftmaxWithLoss()\n",
    "        \n",
    "        self.params, self.grads = [], []\n",
    "        for layer in self.layers:\n",
    "            self.params += layer.params\n",
    "            self.grads += layer.grads\n",
    "    \n",
    "    def predict(self, x):\n",
    "        for layer in self.layers:\n",
    "            x = layer.forward(x)\n",
    "        return x\n",
    "\n",
    "    def forward(self, x, t):\n",
    "        score = self.predict(x)\n",
    "        loss = self.loss_layer.forward(score, t)\n",
    "        return loss\n",
    "    \n",
    "    def backward(self, dout=1):\n",
    "        dout = self.loss_layer.backward(dout)\n",
    "        for layer in self.layers[::-1]:\n",
    "            dout = layer.backward(dout)\n",
    "        return dout"
   ],
   "metadata": {
    "collapsed": false,
    "ExecuteTime": {
     "end_time": "2025-02-16T10:44:04.238729Z",
     "start_time": "2025-02-16T10:44:04.234368Z"
    }
   },
   "id": "c1dfdf523a084d8a",
   "execution_count": 65
  },
  {
   "cell_type": "markdown",
   "source": [
    "### 학습용 코드"
   ],
   "metadata": {
    "collapsed": false
   },
   "id": "ddf51d09d7e9c82e"
  },
  {
   "cell_type": "code",
   "outputs": [],
   "source": [
    "\"하이퍼 파라미터 설정\"\n",
    "max_epoch = 300 # 학습 단, 1에폭은 학습데이터를 모두 살펴본 시점\n",
    "batch_size = 30\n",
    "hidden_size = 10\n",
    "learning_rate = 1.0"
   ],
   "metadata": {
    "collapsed": false,
    "ExecuteTime": {
     "end_time": "2025-02-16T10:44:05.382117Z",
     "start_time": "2025-02-16T10:44:05.379934Z"
    }
   },
   "id": "cd2a7aa5b28d5d22",
   "execution_count": 66
  },
  {
   "cell_type": "code",
   "outputs": [
    {
     "name": "stdout",
     "output_type": "stream",
     "text": [
      "x: (300, 2), t: (300, 3)\n"
     ]
    }
   ],
   "source": [
    "\"데이터 읽기, 모델과 옵티마이저 생성\"\n",
    "from dataset.spiral import load_data\n",
    "\n",
    "x, t = load_data()\n",
    "model = TwoLayerNet(input_size=2, hidden_size=hidden_size, output_size=3)\n",
    "optimizer = SGD(lr=learning_rate)\n",
    "\n",
    "print(f'x: {x.shape}, t: {t.shape}')"
   ],
   "metadata": {
    "collapsed": false,
    "ExecuteTime": {
     "end_time": "2025-02-16T10:44:05.562082Z",
     "start_time": "2025-02-16T10:44:05.559186Z"
    }
   },
   "id": "88e39e99da2a9bcc",
   "execution_count": 67
  },
  {
   "cell_type": "code",
   "outputs": [],
   "source": [
    "\"학습에 사용하는 변수\"\n",
    "data_size = len(x)\n",
    "max_iters = data_size // batch_size\n",
    "total_loss = loss_count = 0\n",
    "loss_list = []"
   ],
   "metadata": {
    "collapsed": false,
    "ExecuteTime": {
     "end_time": "2025-02-16T10:44:05.744038Z",
     "start_time": "2025-02-16T10:44:05.741984Z"
    }
   },
   "id": "e259faa9ae011747",
   "execution_count": 68
  },
  {
   "cell_type": "code",
   "outputs": [
    {
     "name": "stdout",
     "output_type": "stream",
     "text": [
      "| 에폭 1 | 반복 10 / 10 | 손실 1.1256062166823237\n",
      "| 에폭 2 | 반복 10 / 10 | 손실 1.1255202354489933\n",
      "| 에폭 3 | 반복 10 / 10 | 손실 1.1162613752115285\n",
      "| 에폭 4 | 반복 10 / 10 | 손실 1.1162867078413503\n",
      "| 에폭 5 | 반복 10 / 10 | 손실 1.1123000112951948\n",
      "| 에폭 6 | 반복 10 / 10 | 손실 1.1384639824108038\n",
      "| 에폭 7 | 반복 10 / 10 | 손실 1.1590961883070312\n",
      "| 에폭 8 | 반복 10 / 10 | 손실 1.1086316143023154\n",
      "| 에폭 9 | 반복 10 / 10 | 손실 1.1173305676924539\n",
      "| 에폭 10 | 반복 10 / 10 | 손실 1.1287957712269248\n",
      "| 에폭 11 | 반복 10 / 10 | 손실 1.1168438089353867\n",
      "| 에폭 12 | 반복 10 / 10 | 손실 1.108338779101816\n",
      "| 에폭 13 | 반복 10 / 10 | 손실 1.087614920049946\n",
      "| 에폭 14 | 반복 10 / 10 | 손실 1.076681386581935\n",
      "| 에폭 15 | 반복 10 / 10 | 손실 1.0442376735950387\n",
      "| 에폭 16 | 반복 10 / 10 | 손실 1.0345782626337772\n",
      "| 에폭 17 | 반복 10 / 10 | 손실 0.9572932039643971\n",
      "| 에폭 18 | 반복 10 / 10 | 손실 0.918385321087945\n",
      "| 에폭 19 | 반복 10 / 10 | 손실 0.9241491096212103\n",
      "| 에폭 20 | 반복 10 / 10 | 손실 0.8685139076509195\n",
      "| 에폭 21 | 반복 10 / 10 | 손실 0.8493807047841541\n",
      "| 에폭 22 | 반복 10 / 10 | 손실 0.8171629191788113\n",
      "| 에폭 23 | 반복 10 / 10 | 손실 0.7924414711357767\n",
      "| 에폭 24 | 반복 10 / 10 | 손실 0.7826646392986114\n",
      "| 에폭 25 | 반복 10 / 10 | 손실 0.8235432039035638\n",
      "| 에폭 26 | 반복 10 / 10 | 손실 0.7754573601774308\n",
      "| 에폭 27 | 반복 10 / 10 | 손실 0.755785763679778\n",
      "| 에폭 28 | 반복 10 / 10 | 손실 0.7644773546985875\n",
      "| 에폭 29 | 반복 10 / 10 | 손실 0.783489908441849\n",
      "| 에폭 30 | 반복 10 / 10 | 손실 0.7507895610696304\n",
      "| 에폭 31 | 반복 10 / 10 | 손실 0.777306703616526\n",
      "| 에폭 32 | 반복 10 / 10 | 손실 0.7650839562418821\n",
      "| 에폭 33 | 반복 10 / 10 | 손실 0.7727897179944696\n",
      "| 에폭 34 | 반복 10 / 10 | 손실 0.7819402998382253\n",
      "| 에폭 35 | 반복 10 / 10 | 손실 0.7479802970891094\n",
      "| 에폭 36 | 반복 10 / 10 | 손실 0.7449918634368047\n",
      "| 에폭 37 | 반복 10 / 10 | 손실 0.7560347486336814\n",
      "| 에폭 38 | 반복 10 / 10 | 손실 0.7621365677235411\n",
      "| 에폭 39 | 반복 10 / 10 | 손실 0.7308895411004578\n",
      "| 에폭 40 | 반복 10 / 10 | 손실 0.7530268898576873\n",
      "| 에폭 41 | 반복 10 / 10 | 손실 0.7598416342022494\n",
      "| 에폭 42 | 반복 10 / 10 | 손실 0.7594443798911805\n",
      "| 에폭 43 | 반복 10 / 10 | 손실 0.7609245612331736\n",
      "| 에폭 44 | 반복 10 / 10 | 손실 0.7385235003122191\n",
      "| 에폭 45 | 반복 10 / 10 | 손실 0.7483287079215573\n",
      "| 에폭 46 | 반복 10 / 10 | 손실 0.7322123222567571\n",
      "| 에폭 47 | 반복 10 / 10 | 손실 0.7226947264484566\n",
      "| 에폭 48 | 반복 10 / 10 | 손실 0.7329453633807874\n",
      "| 에폭 49 | 반복 10 / 10 | 손실 0.7228591003722223\n",
      "| 에폭 50 | 반복 10 / 10 | 손실 0.7225109819294907\n",
      "| 에폭 51 | 반복 10 / 10 | 손실 0.7151355271138071\n",
      "| 에폭 52 | 반복 10 / 10 | 손실 0.7195462325887141\n",
      "| 에폭 53 | 반복 10 / 10 | 손실 0.7375188235491986\n",
      "| 에폭 54 | 반복 10 / 10 | 손실 0.7361580823220942\n",
      "| 에폭 55 | 반복 10 / 10 | 손실 0.7224648808897997\n",
      "| 에폭 56 | 반복 10 / 10 | 손실 0.7182891638960816\n",
      "| 에폭 57 | 반복 10 / 10 | 손실 0.7074840271194415\n",
      "| 에폭 58 | 반복 10 / 10 | 손실 0.7004036126944777\n",
      "| 에폭 59 | 반복 10 / 10 | 손실 0.7172821745385198\n",
      "| 에폭 60 | 반복 10 / 10 | 손실 0.7014167269154443\n",
      "| 에폭 61 | 반복 10 / 10 | 손실 0.7139798052248814\n",
      "| 에폭 62 | 반복 10 / 10 | 손실 0.7158390973991745\n",
      "| 에폭 63 | 반복 10 / 10 | 손실 0.70241458479173\n",
      "| 에폭 64 | 반복 10 / 10 | 손실 0.7147655630827308\n",
      "| 에폭 65 | 반복 10 / 10 | 손실 0.7258385981107364\n",
      "| 에폭 66 | 반복 10 / 10 | 손실 0.6991952628756115\n",
      "| 에폭 67 | 반복 10 / 10 | 손실 0.7149037812469097\n",
      "| 에폭 68 | 반복 10 / 10 | 손실 0.6923793329208153\n",
      "| 에폭 69 | 반복 10 / 10 | 손실 0.6950715496129249\n",
      "| 에폭 70 | 반복 10 / 10 | 손실 0.7051743201139319\n",
      "| 에폭 71 | 반복 10 / 10 | 손실 0.6818892201279281\n",
      "| 에폭 72 | 반복 10 / 10 | 손실 0.6931081236194652\n",
      "| 에폭 73 | 반복 10 / 10 | 손실 0.6678843529136961\n",
      "| 에폭 74 | 반복 10 / 10 | 손실 0.6795690012596001\n",
      "| 에폭 75 | 반복 10 / 10 | 손실 0.6696918781908965\n",
      "| 에폭 76 | 반복 10 / 10 | 손실 0.6601032915888687\n",
      "| 에폭 77 | 반복 10 / 10 | 손실 0.6948944014779308\n",
      "| 에폭 78 | 반복 10 / 10 | 손실 0.6448714009948228\n",
      "| 에폭 79 | 반복 10 / 10 | 손실 0.6797970357896569\n",
      "| 에폭 80 | 반복 10 / 10 | 손실 0.6389928717097754\n",
      "| 에폭 81 | 반복 10 / 10 | 손실 0.6352100394457482\n",
      "| 에폭 82 | 반복 10 / 10 | 손실 0.6642182679001876\n",
      "| 에폭 83 | 반복 10 / 10 | 손실 0.6194764020308782\n",
      "| 에폭 84 | 반복 10 / 10 | 손실 0.6229674573767082\n",
      "| 에폭 85 | 반복 10 / 10 | 손실 0.6125107706517632\n",
      "| 에폭 86 | 반복 10 / 10 | 손실 0.5971911133520726\n",
      "| 에폭 87 | 반복 10 / 10 | 손실 0.5988198466130642\n",
      "| 에폭 88 | 반복 10 / 10 | 손실 0.6083885307835829\n",
      "| 에폭 89 | 반복 10 / 10 | 손실 0.5881132092407986\n",
      "| 에폭 90 | 반복 10 / 10 | 손실 0.5773251645421091\n",
      "| 에폭 91 | 반복 10 / 10 | 손실 0.5573829192639741\n",
      "| 에폭 92 | 반복 10 / 10 | 손실 0.5604590214222999\n",
      "| 에폭 93 | 반복 10 / 10 | 손실 0.5448990532547213\n",
      "| 에폭 94 | 반복 10 / 10 | 손실 0.5286015850570893\n",
      "| 에폭 95 | 반복 10 / 10 | 손실 0.5299314123468275\n",
      "| 에폭 96 | 반복 10 / 10 | 손실 0.5163065862636677\n",
      "| 에폭 97 | 반복 10 / 10 | 손실 0.5124308579159357\n",
      "| 에폭 98 | 반복 10 / 10 | 손실 0.501644036212414\n",
      "| 에폭 99 | 반복 10 / 10 | 손실 0.4844736823098783\n",
      "| 에폭 100 | 반복 10 / 10 | 손실 0.4800059216962936\n",
      "| 에폭 101 | 반복 10 / 10 | 손실 0.460993488059218\n",
      "| 에폭 102 | 반복 10 / 10 | 손실 0.4540219760066983\n",
      "| 에폭 103 | 반복 10 / 10 | 손실 0.4535714177590592\n",
      "| 에폭 104 | 반복 10 / 10 | 손실 0.44299294652693905\n",
      "| 에폭 105 | 반복 10 / 10 | 손실 0.43615541714274936\n",
      "| 에폭 106 | 반복 10 / 10 | 손실 0.41049348011889675\n",
      "| 에폭 107 | 반복 10 / 10 | 손실 0.4031641890220192\n",
      "| 에폭 108 | 반복 10 / 10 | 손실 0.4076112682225581\n",
      "| 에폭 109 | 반복 10 / 10 | 손실 0.4036238903780626\n",
      "| 에폭 110 | 반복 10 / 10 | 손실 0.39951469523134264\n",
      "| 에폭 111 | 반복 10 / 10 | 손실 0.37921674077822287\n",
      "| 에폭 112 | 반복 10 / 10 | 손실 0.375047139780664\n",
      "| 에폭 113 | 반복 10 / 10 | 손실 0.3622949849404951\n",
      "| 에폭 114 | 반복 10 / 10 | 손실 0.36757104398082385\n",
      "| 에폭 115 | 반복 10 / 10 | 손실 0.34616510526107847\n",
      "| 에폭 116 | 반복 10 / 10 | 손실 0.34489800029011575\n",
      "| 에폭 117 | 반복 10 / 10 | 손실 0.3352893350700098\n",
      "| 에폭 118 | 반복 10 / 10 | 손실 0.3380741881503324\n",
      "| 에폭 119 | 반복 10 / 10 | 손실 0.32834381439169685\n",
      "| 에폭 120 | 반복 10 / 10 | 손실 0.33519658210523773\n",
      "| 에폭 121 | 반복 10 / 10 | 손실 0.3158394400578505\n",
      "| 에폭 122 | 반복 10 / 10 | 손실 0.3174067835957744\n",
      "| 에폭 123 | 반복 10 / 10 | 손실 0.30558094499258287\n",
      "| 에폭 124 | 반복 10 / 10 | 손실 0.31306743220376804\n",
      "| 에폭 125 | 반복 10 / 10 | 손실 0.3001822128388419\n",
      "| 에폭 126 | 반복 10 / 10 | 손실 0.2987418925474238\n",
      "| 에폭 127 | 반복 10 / 10 | 손실 0.2838029470706273\n",
      "| 에폭 128 | 반복 10 / 10 | 손실 0.2811840756517867\n",
      "| 에폭 129 | 반복 10 / 10 | 손실 0.2818341125659931\n",
      "| 에폭 130 | 반복 10 / 10 | 손실 0.27771459938710974\n",
      "| 에폭 131 | 반복 10 / 10 | 손실 0.27238825698634817\n",
      "| 에폭 132 | 반복 10 / 10 | 손실 0.2670771231606995\n",
      "| 에폭 133 | 반복 10 / 10 | 손실 0.27094530362207125\n",
      "| 에폭 134 | 반복 10 / 10 | 손실 0.2705724538659976\n",
      "| 에폭 135 | 반복 10 / 10 | 손실 0.2703088597272764\n",
      "| 에폭 136 | 반복 10 / 10 | 손실 0.26437260107230154\n",
      "| 에폭 137 | 반복 10 / 10 | 손실 0.26378305542245906\n",
      "| 에폭 138 | 반복 10 / 10 | 손실 0.25605019939775353\n",
      "| 에폭 139 | 반복 10 / 10 | 손실 0.2521541449844561\n",
      "| 에폭 140 | 반복 10 / 10 | 손실 0.24291112934456197\n",
      "| 에폭 141 | 반복 10 / 10 | 손실 0.23945524042724534\n",
      "| 에폭 142 | 반복 10 / 10 | 손실 0.2454226274685855\n",
      "| 에폭 143 | 반복 10 / 10 | 손실 0.23667537176990047\n",
      "| 에폭 144 | 반복 10 / 10 | 손실 0.24031931061928158\n",
      "| 에폭 145 | 반복 10 / 10 | 손실 0.2336128881049623\n",
      "| 에폭 146 | 반복 10 / 10 | 손실 0.2365096317991119\n",
      "| 에폭 147 | 반복 10 / 10 | 손실 0.23025407656786454\n",
      "| 에폭 148 | 반복 10 / 10 | 손실 0.22932871901830199\n",
      "| 에폭 149 | 반복 10 / 10 | 손실 0.22401693146587257\n",
      "| 에폭 150 | 반복 10 / 10 | 손실 0.22394676535578734\n",
      "| 에폭 151 | 반복 10 / 10 | 손실 0.22310757814713028\n",
      "| 에폭 152 | 반복 10 / 10 | 손실 0.2226409795823659\n",
      "| 에폭 153 | 반복 10 / 10 | 손실 0.2169768347158069\n",
      "| 에폭 154 | 반복 10 / 10 | 손실 0.21755951288880987\n",
      "| 에폭 155 | 반복 10 / 10 | 손실 0.21507058662677134\n",
      "| 에폭 156 | 반복 10 / 10 | 손실 0.2083575532150994\n",
      "| 에폭 157 | 반복 10 / 10 | 손실 0.2091354478323927\n",
      "| 에폭 158 | 반복 10 / 10 | 손실 0.20480456033012634\n",
      "| 에폭 159 | 반복 10 / 10 | 손실 0.2086069941218481\n",
      "| 에폭 160 | 반복 10 / 10 | 손실 0.19815557489605234\n",
      "| 에폭 161 | 반복 10 / 10 | 손실 0.20435571889234466\n",
      "| 에폭 162 | 반복 10 / 10 | 손실 0.1972402074622855\n",
      "| 에폭 163 | 반복 10 / 10 | 손실 0.21198898405557237\n",
      "| 에폭 164 | 반복 10 / 10 | 손실 0.1999005528642046\n",
      "| 에폭 165 | 반복 10 / 10 | 손실 0.19670798433787998\n",
      "| 에폭 166 | 반복 10 / 10 | 손실 0.19493732434411762\n",
      "| 에폭 167 | 반복 10 / 10 | 손실 0.18861275602513133\n",
      "| 에폭 168 | 반복 10 / 10 | 손실 0.18713582913287868\n",
      "| 에폭 169 | 반복 10 / 10 | 손실 0.18592571707387792\n",
      "| 에폭 170 | 반복 10 / 10 | 손실 0.1883737689447248\n",
      "| 에폭 171 | 반복 10 / 10 | 손실 0.189995467184674\n",
      "| 에폭 172 | 반복 10 / 10 | 손실 0.1827307201942814\n",
      "| 에폭 173 | 반복 10 / 10 | 손실 0.18441370204922122\n",
      "| 에폭 174 | 반복 10 / 10 | 손실 0.18330587406258342\n",
      "| 에폭 175 | 반복 10 / 10 | 손실 0.18023455480919767\n",
      "| 에폭 176 | 반복 10 / 10 | 손실 0.17511064852464442\n",
      "| 에폭 177 | 반복 10 / 10 | 손실 0.17767416217643656\n",
      "| 에폭 178 | 반복 10 / 10 | 손실 0.17668728636135772\n",
      "| 에폭 179 | 반복 10 / 10 | 손실 0.17293847154024702\n",
      "| 에폭 180 | 반복 10 / 10 | 손실 0.17328551329855002\n",
      "| 에폭 181 | 반복 10 / 10 | 손실 0.17653792738499413\n",
      "| 에폭 182 | 반복 10 / 10 | 손실 0.17282612618111387\n",
      "| 에폭 183 | 반복 10 / 10 | 손실 0.17626893090372203\n",
      "| 에폭 184 | 반복 10 / 10 | 손실 0.1743462890173574\n",
      "| 에폭 185 | 반복 10 / 10 | 손실 0.1694907108598928\n",
      "| 에폭 186 | 반복 10 / 10 | 손실 0.17755351335715996\n",
      "| 에폭 187 | 반복 10 / 10 | 손실 0.17285695698153436\n",
      "| 에폭 188 | 반복 10 / 10 | 손실 0.16648514397547948\n",
      "| 에폭 189 | 반복 10 / 10 | 손실 0.16594153132977585\n",
      "| 에폭 190 | 반복 10 / 10 | 손실 0.16931139951263358\n",
      "| 에폭 191 | 반복 10 / 10 | 손실 0.1630110612160232\n",
      "| 에폭 192 | 반복 10 / 10 | 손실 0.16958890572080473\n",
      "| 에폭 193 | 반복 10 / 10 | 손실 0.16190682431185185\n",
      "| 에폭 194 | 반복 10 / 10 | 손실 0.15939537909039847\n",
      "| 에폭 195 | 반복 10 / 10 | 손실 0.16286032857961974\n",
      "| 에폭 196 | 반복 10 / 10 | 손실 0.16124197360055142\n",
      "| 에폭 197 | 반복 10 / 10 | 손실 0.16364914579280593\n",
      "| 에폭 198 | 반복 10 / 10 | 손실 0.1527678767991843\n",
      "| 에폭 199 | 반복 10 / 10 | 손실 0.1597032801970886\n",
      "| 에폭 200 | 반복 10 / 10 | 손실 0.15747782851517933\n",
      "| 에폭 201 | 반복 10 / 10 | 손실 0.15467694220979317\n",
      "| 에폭 202 | 반복 10 / 10 | 손실 0.15693770655217204\n",
      "| 에폭 203 | 반복 10 / 10 | 손실 0.15547652786727323\n",
      "| 에폭 204 | 반복 10 / 10 | 손실 0.15394834058798226\n",
      "| 에폭 205 | 반복 10 / 10 | 손실 0.15758367150781266\n",
      "| 에폭 206 | 반복 10 / 10 | 손실 0.15348488267419583\n",
      "| 에폭 207 | 반복 10 / 10 | 손실 0.15446293102249115\n",
      "| 에폭 208 | 반복 10 / 10 | 손실 0.1476797718663995\n",
      "| 에폭 209 | 반복 10 / 10 | 손실 0.151414892937523\n",
      "| 에폭 210 | 반복 10 / 10 | 손실 0.14935646270420944\n",
      "| 에폭 211 | 반복 10 / 10 | 손실 0.1517051939074467\n",
      "| 에폭 212 | 반복 10 / 10 | 손실 0.14755917786826167\n",
      "| 에폭 213 | 반복 10 / 10 | 손실 0.1478514574205582\n",
      "| 에폭 214 | 반복 10 / 10 | 손실 0.1451598062679797\n",
      "| 에폭 215 | 반복 10 / 10 | 손실 0.14678399383604498\n",
      "| 에폭 216 | 반복 10 / 10 | 손실 0.14388363320088365\n",
      "| 에폭 217 | 반복 10 / 10 | 손실 0.1425976866105933\n",
      "| 에폭 218 | 반복 10 / 10 | 손실 0.1455518479651133\n",
      "| 에폭 219 | 반복 10 / 10 | 손실 0.13922422236572768\n",
      "| 에폭 220 | 반복 10 / 10 | 손실 0.13730944343188062\n",
      "| 에폭 221 | 반복 10 / 10 | 손실 0.14410598841352631\n",
      "| 에폭 222 | 반복 10 / 10 | 손실 0.14050778228166325\n",
      "| 에폭 223 | 반복 10 / 10 | 손실 0.1422498424980961\n",
      "| 에폭 224 | 반복 10 / 10 | 손실 0.14254640666896848\n",
      "| 에폭 225 | 반복 10 / 10 | 손실 0.13667202381979066\n",
      "| 에폭 226 | 반복 10 / 10 | 손실 0.13659011900484855\n",
      "| 에폭 227 | 반복 10 / 10 | 손실 0.14251665205070388\n",
      "| 에폭 228 | 반복 10 / 10 | 손실 0.1360865718323747\n",
      "| 에폭 229 | 반복 10 / 10 | 손실 0.12909966921321342\n",
      "| 에폭 230 | 반복 10 / 10 | 손실 0.13883107120690039\n",
      "| 에폭 231 | 반복 10 / 10 | 손실 0.1314233707388209\n",
      "| 에폭 232 | 반복 10 / 10 | 손실 0.135949517472227\n",
      "| 에폭 233 | 반복 10 / 10 | 손실 0.13429273376232004\n",
      "| 에폭 234 | 반복 10 / 10 | 손실 0.1314406978985541\n",
      "| 에폭 235 | 반복 10 / 10 | 손실 0.13148269177878136\n",
      "| 에폭 236 | 반복 10 / 10 | 손실 0.1286067373841916\n",
      "| 에폭 237 | 반복 10 / 10 | 손실 0.13539204860157286\n",
      "| 에폭 238 | 반복 10 / 10 | 손실 0.1322310177459311\n",
      "| 에폭 239 | 반복 10 / 10 | 손실 0.13134628823538022\n",
      "| 에폭 240 | 반복 10 / 10 | 손실 0.13781596053410874\n",
      "| 에폭 241 | 반복 10 / 10 | 손실 0.1336728687160506\n",
      "| 에폭 242 | 반복 10 / 10 | 손실 0.12860547570667213\n",
      "| 에폭 243 | 반복 10 / 10 | 손실 0.12775015207856277\n",
      "| 에폭 244 | 반복 10 / 10 | 손실 0.13002243546645445\n",
      "| 에폭 245 | 반복 10 / 10 | 손실 0.1314597490170683\n",
      "| 에폭 246 | 반복 10 / 10 | 손실 0.12796605893873633\n",
      "| 에폭 247 | 반복 10 / 10 | 손실 0.12643439113307098\n",
      "| 에폭 248 | 반복 10 / 10 | 손실 0.13201041906408478\n",
      "| 에폭 249 | 반복 10 / 10 | 손실 0.12779009853793583\n",
      "| 에폭 250 | 반복 10 / 10 | 손실 0.13040328847998253\n",
      "| 에폭 251 | 반복 10 / 10 | 손실 0.13348456295442596\n",
      "| 에폭 252 | 반복 10 / 10 | 손실 0.1245396304912503\n",
      "| 에폭 253 | 반복 10 / 10 | 손실 0.1213267569111151\n",
      "| 에폭 254 | 반복 10 / 10 | 손실 0.1228600845206473\n",
      "| 에폭 255 | 반복 10 / 10 | 손실 0.12267013423577507\n",
      "| 에폭 256 | 반복 10 / 10 | 손실 0.12312488940516716\n",
      "| 에폭 257 | 반복 10 / 10 | 손실 0.12127839505918622\n",
      "| 에폭 258 | 반복 10 / 10 | 손실 0.12467328584597168\n",
      "| 에폭 259 | 반복 10 / 10 | 손실 0.13195709803216443\n",
      "| 에폭 260 | 반복 10 / 10 | 손실 0.12026657236516296\n",
      "| 에폭 261 | 반복 10 / 10 | 손실 0.12500316552637755\n",
      "| 에폭 262 | 반복 10 / 10 | 손실 0.12062063523861197\n",
      "| 에폭 263 | 반복 10 / 10 | 손실 0.11810798686866313\n",
      "| 에폭 264 | 반복 10 / 10 | 손실 0.12681552271035704\n",
      "| 에폭 265 | 반복 10 / 10 | 손실 0.11807400896605266\n",
      "| 에폭 266 | 반복 10 / 10 | 손실 0.1201400500049514\n",
      "| 에폭 267 | 반복 10 / 10 | 손실 0.11993006486808408\n",
      "| 에폭 268 | 반복 10 / 10 | 손실 0.1173251738470475\n",
      "| 에폭 269 | 반복 10 / 10 | 손실 0.1136047759790467\n",
      "| 에폭 270 | 반복 10 / 10 | 손실 0.11888250117808805\n",
      "| 에폭 271 | 반복 10 / 10 | 손실 0.11633511040515605\n",
      "| 에폭 272 | 반복 10 / 10 | 손실 0.11825391183559257\n",
      "| 에폭 273 | 반복 10 / 10 | 손실 0.11623703569727484\n",
      "| 에폭 274 | 반복 10 / 10 | 손실 0.12322514116418914\n",
      "| 에폭 275 | 반복 10 / 10 | 손실 0.11326334261276316\n",
      "| 에폭 276 | 반복 10 / 10 | 손실 0.11580125295481185\n",
      "| 에폭 277 | 반복 10 / 10 | 손실 0.12418527047451147\n",
      "| 에폭 278 | 반복 10 / 10 | 손실 0.11289494501453368\n",
      "| 에폭 279 | 반복 10 / 10 | 손실 0.11077561346473115\n",
      "| 에폭 280 | 반복 10 / 10 | 손실 0.11431217925067243\n",
      "| 에폭 281 | 반복 10 / 10 | 손실 0.11427378474471328\n",
      "| 에폭 282 | 반복 10 / 10 | 손실 0.11731530918730067\n",
      "| 에폭 283 | 반복 10 / 10 | 손실 0.11173984745596399\n",
      "| 에폭 284 | 반복 10 / 10 | 손실 0.11382437328275696\n",
      "| 에폭 285 | 반복 10 / 10 | 손실 0.11354569974260217\n",
      "| 에폭 286 | 반복 10 / 10 | 손실 0.11082773737319426\n",
      "| 에폭 287 | 반복 10 / 10 | 손실 0.11235645391470017\n",
      "| 에폭 288 | 반복 10 / 10 | 손실 0.11698939249450444\n",
      "| 에폭 289 | 반복 10 / 10 | 손실 0.11394781289859846\n",
      "| 에폭 290 | 반복 10 / 10 | 손실 0.11472703869653109\n",
      "| 에폭 291 | 반복 10 / 10 | 손실 0.11195179439782435\n",
      "| 에폭 292 | 반복 10 / 10 | 손실 0.11252714425363763\n",
      "| 에폭 293 | 반복 10 / 10 | 손실 0.11019011632052714\n",
      "| 에폭 294 | 반복 10 / 10 | 손실 0.11147947028025713\n",
      "| 에폭 295 | 반복 10 / 10 | 손실 0.11578316334144985\n",
      "| 에폭 296 | 반복 10 / 10 | 손실 0.11022282695739691\n",
      "| 에폭 297 | 반복 10 / 10 | 손실 0.11966849814776911\n",
      "| 에폭 298 | 반복 10 / 10 | 손실 0.11160268411696468\n",
      "| 에폭 299 | 반복 10 / 10 | 손실 0.10668719692739759\n",
      "| 에폭 300 | 반복 10 / 10 | 손실 0.10854954795724307\n"
     ]
    }
   ],
   "source": [
    "# 미니배치로 데이터를 무작위로 선택\n",
    "for epoch in range(max_epoch):\n",
    "    idx = np.random.permutation(data_size) # 데이터 인덱스 뒤섞기\n",
    "    x, t = x[idx], t[idx]\n",
    "    \n",
    "    for iters in range(max_iters):\n",
    "        start, end = iters * batch_size, (iters + 1) * batch_size\n",
    "        batch_x = x[start: end]\n",
    "        batch_t = t[start: end]\n",
    "        \n",
    "        # 기울기를 구해서 매개변수를 계속 갱신\n",
    "        loss = model.forward(batch_x, batch_t)\n",
    "        model.backward()\n",
    "        optimizer.update(model.params, model.grads)\n",
    "        \n",
    "        total_loss += loss\n",
    "        loss_count += 1\n",
    "        \n",
    "        if (iters + 1) % 10 == 0:\n",
    "            avg_loss = total_loss / loss_count\n",
    "            print(f\"| 에폭 {epoch + 1} | 반복 { iters + 1 } / { max_iters} | 손실 {avg_loss}\")\n",
    "            loss_list.append(avg_loss)\n",
    "            total_loss = loss_count = 0"
   ],
   "metadata": {
    "collapsed": false,
    "ExecuteTime": {
     "end_time": "2025-02-16T10:44:06.273483Z",
     "start_time": "2025-02-16T10:44:06.157861Z"
    }
   },
   "id": "cbfb4a5f744e2027",
   "execution_count": 69
  },
  {
   "cell_type": "code",
   "outputs": [
    {
     "data": {
      "text/plain": "<Figure size 640x480 with 1 Axes>",
      "image/png": "[encoded data removed]"
     },
     "metadata": {},
     "output_type": "display_data"
    },
    {
     "data": {
      "text/plain": "<Figure size 640x480 with 1 Axes>",
      "image/png": "[encoded data removed]"
     },
     "metadata": {},
     "output_type": "display_data"
    }
   ],
   "source": [
    "plt.plot(np.arange(len(loss_list)), loss_list, label='train')\n",
    "plt.xlabel('반복 (x10)')\n",
    "plt.ylabel('손실')\n",
    "plt.show()\n",
    "\n",
    "# 경계 영역 플롯\n",
    "h = 0.001\n",
    "x_min, x_max = x[:, 0].min() - .1, x[:, 0].max() + .1\n",
    "y_min, y_max = x[:, 1].min() - .1, x[:, 1].max() + .1\n",
    "xx, yy = np.meshgrid(np.arange(x_min, x_max, h), np.arange(y_min, y_max, h))\n",
    "X = np.c_[xx.ravel(), yy.ravel()]\n",
    "score = model.predict(X)\n",
    "predict_cls = np.argmax(score, axis=1)\n",
    "Z = predict_cls.reshape(xx.shape)\n",
    "plt.contourf(xx, yy, Z)\n",
    "plt.axis('off')\n",
    "\n",
    "# 데이터점 플롯\n",
    "x, t = load_data()\n",
    "N = 100\n",
    "CLS_NUM = 3\n",
    "markers = ['o', 'x', '^']\n",
    "for i in range(CLS_NUM):\n",
    "    plt.scatter(x[i*N:(i+1)*N, 0], x[i*N:(i+1)*N, 1], s=40, marker=markers[i])\n",
    "plt.show()"
   ],
   "metadata": {
    "collapsed": false,
    "ExecuteTime": {
     "end_time": "2025-02-16T11:01:08.928596Z",
     "start_time": "2025-02-16T11:01:08.067026Z"
    }
   },
   "id": "706ce07d2b7c0f5d",
   "execution_count": 73
  }
 ],
 "metadata": {
  "kernelspec": {
   "display_name": "Python 3",
   "language": "python",
   "name": "python3"
  },
  "language_info": {
   "codemirror_mode": {
    "name": "ipython",
    "version": 2
   },
   "file_extension": ".py",
   "mimetype": "text/x-python",
   "name": "python",
   "nbconvert_exporter": "python",
   "pygments_lexer": "ipython2",
   "version": "2.7.6"
  }
 },
 "nbformat": 4,
 "nbformat_minor": 5
}
