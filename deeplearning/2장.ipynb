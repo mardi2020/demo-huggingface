{
 "cells": [
  {
   "cell_type": "code",
   "execution_count": 1,
   "id": "initial_id",
   "metadata": {
    "collapsed": true,
    "ExecuteTime": {
     "end_time": "2025-02-18T11:58:04.949072Z",
     "start_time": "2025-02-18T11:58:04.916225Z"
    }
   },
   "outputs": [],
   "source": [
    "import sys\n",
    "import numpy as np"
   ]
  },
  {
   "cell_type": "code",
   "outputs": [],
   "source": [
    "def preprocess(txt):\n",
    "    txt = txt.lower().replace('.', ' .')\n",
    "    word2id, id2word = dict(), dict()\n",
    "    words = txt.split()\n",
    "    for word in words:\n",
    "        if word not in word2id:\n",
    "            new_id = len(word2id)\n",
    "            word2id[word] = new_id\n",
    "            id2word[new_id] = word\n",
    "    \n",
    "    corpus = np.array([word2id[w] for w in words])\n",
    "    return corpus, word2id, id2word"
   ],
   "metadata": {
    "collapsed": false,
    "ExecuteTime": {
     "end_time": "2025-02-18T12:01:42.700969Z",
     "start_time": "2025-02-18T12:01:42.696261Z"
    }
   },
   "id": "192601a422f21814",
   "execution_count": 2
  },
  {
   "cell_type": "code",
   "outputs": [
    {
     "data": {
      "text/plain": "array([0, 1, 2, 3, 4, 1, 5, 6])"
     },
     "execution_count": 3,
     "metadata": {},
     "output_type": "execute_result"
    }
   ],
   "source": [
    "text = 'You say goodbye and I say hello.'\n",
    "\n",
    "corpus, word2id, id2word = preprocess(text)\n",
    "\n",
    "corpus"
   ],
   "metadata": {
    "collapsed": false,
    "ExecuteTime": {
     "end_time": "2025-02-18T12:01:52.326542Z",
     "start_time": "2025-02-18T12:01:52.322904Z"
    }
   },
   "id": "c7ff914104bf3b43",
   "execution_count": 3
  },
  {
   "cell_type": "code",
   "outputs": [
    {
     "data": {
      "text/plain": "{0: 'you', 1: 'say', 2: 'goodbye', 3: 'and', 4: 'i', 5: 'hello', 6: '.'}"
     },
     "execution_count": 5,
     "metadata": {},
     "output_type": "execute_result"
    }
   ],
   "source": [
    "id2word"
   ],
   "metadata": {
    "collapsed": false,
    "ExecuteTime": {
     "end_time": "2025-02-18T12:01:59.062668Z",
     "start_time": "2025-02-18T12:01:59.060147Z"
    }
   },
   "id": "3a0d82087d418075",
   "execution_count": 5
  },
  {
   "cell_type": "code",
   "outputs": [
    {
     "data": {
      "text/plain": "array([[0, 1, 0, 0, 0, 0, 0],\n       [1, 0, 1, 0, 1, 1, 0],\n       [0, 1, 0, 1, 0, 0, 0],\n       [0, 0, 1, 0, 1, 0, 0],\n       [0, 1, 0, 1, 0, 0, 0],\n       [0, 1, 0, 0, 0, 0, 1],\n       [0, 0, 0, 0, 0, 1, 0]], dtype=int32)"
     },
     "execution_count": 6,
     "metadata": {},
     "output_type": "execute_result"
    }
   ],
   "source": [
    "# 동시발생 행렬\n",
    "C = np.array([\n",
    "    [0, 1, 0, 0, 0, 0, 0],\n",
    "    [1, 0, 1, 0, 1, 1, 0],\n",
    "    [0, 1, 0, 1, 0, 0, 0],\n",
    "    [0, 0, 1, 0, 1, 0, 0],\n",
    "    [0, 1, 0, 1, 0, 0, 0],\n",
    "    [0, 1, 0, 0, 0, 0, 1],\n",
    "    [0, 0, 0, 0, 0, 1, 0],\n",
    "], dtype=np.int32)\n",
    "\n",
    "C"
   ],
   "metadata": {
    "collapsed": false,
    "ExecuteTime": {
     "end_time": "2025-02-18T12:03:29.670603Z",
     "start_time": "2025-02-18T12:03:29.666080Z"
    }
   },
   "id": "e5c81263fb879430",
   "execution_count": 6
  },
  {
   "cell_type": "code",
   "outputs": [
    {
     "name": "stdout",
     "output_type": "stream",
     "text": [
      "id가 0인 단어의 벡터 표현: [0 1 0 0 0 0 0]\n"
     ]
    }
   ],
   "source": [
    "print(f'id가 0인 단어의 벡터 표현: {C[0]}')"
   ],
   "metadata": {
    "collapsed": false,
    "ExecuteTime": {
     "end_time": "2025-02-18T12:03:56.410406Z",
     "start_time": "2025-02-18T12:03:56.408246Z"
    }
   },
   "id": "8fa198455df44670",
   "execution_count": 7
  },
  {
   "cell_type": "code",
   "outputs": [
    {
     "name": "stdout",
     "output_type": "stream",
     "text": [
      "goodbye의 벡터 표현: 2\n"
     ]
    }
   ],
   "source": [
    "print(f'goodbye의 벡터 표현: {word2id['goodbye']}')"
   ],
   "metadata": {
    "collapsed": false,
    "ExecuteTime": {
     "end_time": "2025-02-18T12:04:13.016851Z",
     "start_time": "2025-02-18T12:04:13.014697Z"
    }
   },
   "id": "69a50b0316f14d11",
   "execution_count": 8
  },
  {
   "cell_type": "code",
   "outputs": [],
   "source": [
    "def create_co_matrix(corpus, vocab_size, window_size=1):\n",
    "    corpus_size = len(corpus)\n",
    "    co_matrix = np.zeros((vocab_size, vocab_size), dtype=np.int32) # 0으로 초기화\n",
    "    \n",
    "    # 말뭉치의 모든 단어 각각에 대해 윈도우에 포함된 주변 단어를 세어감\n",
    "    for idx, word_id in enumerate(corpus):\n",
    "        for i in range(1, window_size + 1):\n",
    "            left_idx, right_idx = idx - i, idx + i\n",
    "            \n",
    "            if left_idx >= 0:\n",
    "                left_word_id = corpus[left_idx]\n",
    "                co_matrix[word_id, left_word_id] += 1\n",
    "            \n",
    "            if right_idx < corpus_size:\n",
    "                right_word_id = corpus[right_idx]\n",
    "                co_matrix[word_id, right_word_id] += 1\n",
    "        \n",
    "    return co_matrix"
   ],
   "metadata": {
    "collapsed": false,
    "ExecuteTime": {
     "end_time": "2025-02-18T12:07:43.455783Z",
     "start_time": "2025-02-18T12:07:43.453064Z"
    }
   },
   "id": "27422ccd181dfb20",
   "execution_count": 10
  },
  {
   "cell_type": "code",
   "outputs": [],
   "source": [
    "# 벡터간 유사도 - 코사인 유사도\n",
    "\"eps를 더하는 이유: 인수로 원소가 모두 0인 벡터가 들어오면 divide by zero 오류 발생 방지\"\n",
    "def cos_similarity(x, y, eps=1e-8):\n",
    "    nx = x / np.sqrt(np.sum(x ** 2) + eps)\n",
    "    ny = y / np.sqrt(np.sum(y ** 2) + eps)\n",
    "    return np.dot(nx, ny) # -1 ~ 1 사이의 값"
   ],
   "metadata": {
    "collapsed": false,
    "ExecuteTime": {
     "end_time": "2025-02-18T12:09:33.667608Z",
     "start_time": "2025-02-18T12:09:33.665683Z"
    }
   },
   "id": "ef816eaf8f50aa4f",
   "execution_count": 12
  },
  {
   "cell_type": "code",
   "outputs": [
    {
     "name": "stdout",
     "output_type": "stream",
     "text": [
      "0.7071067758832467\n"
     ]
    }
   ],
   "source": [
    "vocab_size = len(word2id)\n",
    "C = create_co_matrix(corpus, vocab_size)\n",
    "\n",
    "c0, c1 = C[word2id['you']], C[word2id['i']]\n",
    "\n",
    "print(cos_similarity(c0, c1))"
   ],
   "metadata": {
    "collapsed": false,
    "ExecuteTime": {
     "end_time": "2025-02-18T12:10:29.307366Z",
     "start_time": "2025-02-18T12:10:29.304141Z"
    }
   },
   "id": "76e74378c3a4b98e",
   "execution_count": 13
  },
  {
   "cell_type": "code",
   "outputs": [],
   "source": [
    "# 검색어와 비슷한 단어를 유사도 순으로 출력하는 함수\n",
    "def most_similar(query, word2id, id2word, word_matrix, top=5):\n",
    "    if query not in word2id: # 검색어를 꺼냄\n",
    "        return\n",
    "    \n",
    "    query_id = word2id[query]\n",
    "    query_vector = word_matrix[query_id]\n",
    "    \n",
    "    # 코사인 유사도 계산\n",
    "    vocab_size = len(id2word)\n",
    "    similarity = np.zeros(vocab_size)\n",
    "    for i in range(vocab_size):\n",
    "        similarity[i] = cos_similarity(word_matrix[i], query_vector)\n",
    "    \n",
    "    # 코사인 유사도를 기준으로 값이 높은 순서대로 top개 출력\n",
    "    count = 0\n",
    "    for i in (-1 * similarity).argsort():\n",
    "        if id2word[i] == query:\n",
    "            continue\n",
    "        print(id2word[i], similarity[i])\n",
    "        count += 1\n",
    "        if count >= top:\n",
    "            return"
   ],
   "metadata": {
    "collapsed": false,
    "ExecuteTime": {
     "end_time": "2025-02-18T12:14:10.617993Z",
     "start_time": "2025-02-18T12:14:10.614330Z"
    }
   },
   "id": "f6e75a36b232f20",
   "execution_count": 14
  },
  {
   "cell_type": "code",
   "outputs": [
    {
     "name": "stdout",
     "output_type": "stream",
     "text": [
      "goodbye 0.7071067758832467\n",
      "i 0.7071067758832467\n",
      "hello 0.7071067758832467\n",
      "say 0.0\n",
      "and 0.0\n"
     ]
    }
   ],
   "source": [
    "C = create_co_matrix(corpus, vocab_size)\n",
    "most_similar('you', word2id, id2word, C)"
   ],
   "metadata": {
    "collapsed": false,
    "ExecuteTime": {
     "end_time": "2025-02-18T12:14:40.100624Z",
     "start_time": "2025-02-18T12:14:40.097734Z"
    }
   },
   "id": "dfdc9b16a1ae210d",
   "execution_count": 15
  },
  {
   "cell_type": "markdown",
   "source": [
    "### PMI (Pointwise Mutual Information)\n",
    "> 특정 단어 쌍이 독립적으로 나타나는 것보다 함께 나타날 확률이 얼마나 높은지를 측정하는 지표\n",
    "> \n",
    "> PMI 값이 클수록 두 단어가 서로 강한 연관성을 가지며, 값이 작으면 연관성이 낮다\n",
    "\n",
    "$$\n",
    "\\[\n",
    "PMI(x,y) = \\log_2 \\frac{P(x,y)}{P(x)P(y)}\n",
    "= \\log_2 \\frac{\\frac{C(x,y)}{N}}{\\frac{C(x)}{N} \\frac{C(y)}{N}}\n",
    "= \\log_2 \\frac{C(x,y) \\cdot N}{C(x)C(y)}\n",
    "\\]\n",
    "$$\n",
    "\n",
    "- P(w, c)  : 단어  w 와 문맥 단어  c 가 동시에 등장할 확률\n",
    "- P(w)  : 단어  w 가 등장할 확률\n",
    "- P(c)  : 문맥 단어  c 가 등장할 확률\n",
    "\n",
    "PMI 특징\n",
    "\t•\tPMI 값이 0보다 크면 단어들이 기대보다 자주 등장함을 의미\n",
    "\t•\tPMI 값이 0이면 단어들이 서로 독립적임을 의미\n",
    "\t•\tPMI 값이 0보다 작으면 단어들이 기대보다 덜 등장함을 의미\n",
    "\t\n",
    "### PPMI (Positive PPMI)\n",
    "> 음수 값을 제거해 음의 연관성을 고려하지 않음 (음수여도 0으로 처리됨)\n",
    "> 희소한 데이터에서도 안정적 사용가능\n",
    "\n",
    "$$\n",
    "\n",
    "PPMI(w, c) = \\max(PMI(w, c), 0)\n",
    "\n",
    "$$"
   ],
   "metadata": {
    "collapsed": false
   },
   "id": "35d058a1121b4922"
  },
  {
   "cell_type": "code",
   "outputs": [],
   "source": [
    "from IPython.display import clear_output\n",
    "from time import sleep\n",
    "\n",
    "def ppmi(C, verbose=False, eps=1e-8):\n",
    "    M = np.zeros_like(C, dtype=np.float32)\n",
    "    N = np.sum(C)\n",
    "    S = np.sum(C, axis=0)\n",
    "    total, cnt = C.shape[0] * C.shape[1], 0\n",
    "    \n",
    "    for i in range(C.shape[0]):\n",
    "        for j in range(C.shape[1]):\n",
    "            pmi = np.log2(C[i, j] * N / (S[j] * S[i]) + eps)\n",
    "            M[i, j] = max(0, pmi)\n",
    "            \n",
    "            if verbose:\n",
    "                cnt += 1\n",
    "                if cnt % (total // 100 + 1) == 0:\n",
    "                    clear_output(wait=True)\n",
    "                    print('%.1f%% 완료 ' % (100 * cnt / total))\n",
    "                    sleep(0.4)\n",
    "    \n",
    "    return M"
   ],
   "metadata": {
    "collapsed": false,
    "ExecuteTime": {
     "end_time": "2025-02-18T12:17:25.636662Z",
     "start_time": "2025-02-18T12:17:25.633171Z"
    }
   },
   "id": "98d1e791bd6cbe98",
   "execution_count": 19
  },
  {
   "cell_type": "code",
   "outputs": [
    {
     "name": "stdout",
     "output_type": "stream",
     "text": [
      "[[0 1 0 0 0 0 0]\n",
      " [1 0 1 0 1 1 0]\n",
      " [0 1 0 1 0 0 0]\n",
      " [0 0 1 0 1 0 0]\n",
      " [0 1 0 1 0 0 0]\n",
      " [0 1 0 0 0 0 1]\n",
      " [0 0 0 0 0 1 0]]\n"
     ]
    }
   ],
   "source": [
    "W = ppmi(C)\n",
    "\n",
    "np.set_printoptions(precision=3) # 유효자릿수 3개\n",
    "print(C)"
   ],
   "metadata": {
    "collapsed": false,
    "ExecuteTime": {
     "end_time": "2025-02-18T12:17:51.863731Z",
     "start_time": "2025-02-18T12:17:51.861258Z"
    }
   },
   "id": "769a2881da97d629",
   "execution_count": 21
  },
  {
   "cell_type": "code",
   "outputs": [
    {
     "name": "stdout",
     "output_type": "stream",
     "text": [
      "[[0.    1.807 0.    0.    0.    0.    0.   ]\n",
      " [1.807 0.    0.807 0.    0.807 0.807 0.   ]\n",
      " [0.    0.807 0.    1.807 0.    0.    0.   ]\n",
      " [0.    0.    1.807 0.    1.807 0.    0.   ]\n",
      " [0.    0.807 0.    1.807 0.    0.    0.   ]\n",
      " [0.    0.807 0.    0.    0.    0.    2.807]\n",
      " [0.    0.    0.    0.    0.    2.807 0.   ]]\n"
     ]
    }
   ],
   "source": [
    "print(W)"
   ],
   "metadata": {
    "collapsed": false,
    "ExecuteTime": {
     "end_time": "2025-02-18T12:17:58.772072Z",
     "start_time": "2025-02-18T12:17:58.768682Z"
    }
   },
   "id": "746592edbf02017d",
   "execution_count": 23
  },
  {
   "cell_type": "markdown",
   "source": [
    "### 특잇값분해(SVD)와 차원축소"
   ],
   "metadata": {
    "collapsed": false
   },
   "id": "a0285d807e60e17"
  },
  {
   "cell_type": "code",
   "outputs": [],
   "source": [
    "import matplotlib.pyplot as plt\n",
    "\n",
    "U, S, V = np.linalg.svd(W)"
   ],
   "metadata": {
    "collapsed": false,
    "ExecuteTime": {
     "end_time": "2025-02-18T12:20:41.070273Z",
     "start_time": "2025-02-18T12:20:40.845430Z"
    }
   },
   "id": "2f19dddd89be0b1b",
   "execution_count": 24
  },
  {
   "cell_type": "code",
   "outputs": [
    {
     "name": "stdout",
     "output_type": "stream",
     "text": [
      "[0 1 0 0 0 0 0]\n",
      "[0.    1.807 0.    0.    0.    0.    0.   ]\n",
      "[ 3.409e-01  0.000e+00  1.205e-01 -3.608e-16 -1.110e-16  9.323e-01\n",
      "  1.626e-16]\n"
     ]
    }
   ],
   "source": [
    "\"단어 ID가 0인 단어 벡터\"\n",
    "print(C[0]) # 동시발생 행렬\n",
    "print(W[0]) # PPMI 행렬\n",
    "print(U[0]) # SVD"
   ],
   "metadata": {
    "collapsed": false,
    "ExecuteTime": {
     "end_time": "2025-02-18T12:21:12.278590Z",
     "start_time": "2025-02-18T12:21:12.276607Z"
    }
   },
   "id": "99e240426ac7d832",
   "execution_count": 25
  },
  {
   "cell_type": "code",
   "outputs": [
    {
     "data": {
      "text/plain": "<Figure size 640x480 with 1 Axes>",
      "image/png": "[encoded data removed]"
     },
     "metadata": {},
     "output_type": "display_data"
    }
   ],
   "source": [
    "for word, word_id in word2id.items():\n",
    "    plt.annotate(word, (U[word_id, 0], U[word_id, 1]))\n",
    "\n",
    "plt.scatter(U[:, 0], U[:, 1], alpha=0.5)\n",
    "plt.show()"
   ],
   "metadata": {
    "collapsed": false,
    "ExecuteTime": {
     "end_time": "2025-02-18T12:22:26.532497Z",
     "start_time": "2025-02-18T12:22:26.472930Z"
    }
   },
   "id": "d26318d2eca0581f",
   "execution_count": 26
  },
  {
   "cell_type": "markdown",
   "source": [
    "### dataset - ptb 사용해보기"
   ],
   "metadata": {
    "collapsed": false
   },
   "id": "3f1892bc1fce301e"
  },
  {
   "cell_type": "code",
   "outputs": [
    {
     "data": {
      "text/plain": "929589"
     },
     "execution_count": 38,
     "metadata": {},
     "output_type": "execute_result"
    }
   ],
   "source": [
    "from dataset import ptb\n",
    "\n",
    "corpus, word2id, id2word = ptb.load_data('train')\n",
    "\n",
    "len(corpus)"
   ],
   "metadata": {
    "collapsed": false,
    "ExecuteTime": {
     "end_time": "2025-02-18T12:38:15.690442Z",
     "start_time": "2025-02-18T12:38:15.502266Z"
    }
   },
   "id": "89e9f3b2b60e53d4",
   "execution_count": 38
  },
  {
   "cell_type": "code",
   "outputs": [
    {
     "data": {
      "text/plain": "'aer'"
     },
     "execution_count": 39,
     "metadata": {},
     "output_type": "execute_result"
    }
   ],
   "source": [
    "id2word[0]"
   ],
   "metadata": {
    "collapsed": false,
    "ExecuteTime": {
     "end_time": "2025-02-18T12:38:28.523199Z",
     "start_time": "2025-02-18T12:38:28.521139Z"
    }
   },
   "id": "daefc50d42d41855",
   "execution_count": 39
  },
  {
   "cell_type": "code",
   "outputs": [
    {
     "data": {
      "text/plain": "0"
     },
     "execution_count": 41,
     "metadata": {},
     "output_type": "execute_result"
    }
   ],
   "source": [
    "word2id['aer']"
   ],
   "metadata": {
    "collapsed": false,
    "ExecuteTime": {
     "end_time": "2025-02-18T12:38:36.664853Z",
     "start_time": "2025-02-18T12:38:36.662426Z"
    }
   },
   "id": "c4a43389ff80e2d7",
   "execution_count": 41
  },
  {
   "cell_type": "code",
   "outputs": [],
   "source": [
    "window_size = 2\n",
    "wordvec_size = 100\n",
    "querys = ['you', 'year', 'car', 'toyota']"
   ],
   "metadata": {
    "collapsed": false,
    "ExecuteTime": {
     "end_time": "2025-02-18T12:41:22.114354Z",
     "start_time": "2025-02-18T12:41:22.112762Z"
    }
   },
   "id": "7ec678f55d84a719",
   "execution_count": 43
  },
  {
   "cell_type": "code",
   "outputs": [
    {
     "name": "stdout",
     "output_type": "stream",
     "text": [
      "1.0% 완료 \n",
      "2.0% 완료 \n",
      "3.0% 완료 \n",
      "4.0% 완료 \n",
      "5.0% 완료 \n",
      "6.0% 완료 \n",
      "7.0% 완료 \n",
      "8.0% 완료 \n",
      "9.0% 완료 \n",
      "10.0% 완료 \n",
      "11.0% 완료 \n",
      "12.0% 완료 \n",
      "13.0% 완료 \n",
      "14.0% 완료 \n",
      "15.0% 완료 \n",
      "16.0% 완료 \n",
      "17.0% 완료 \n",
      "18.0% 완료 \n",
      "19.0% 완료 \n",
      "20.0% 완료 \n",
      "21.0% 완료 \n",
      "22.0% 완료 \n",
      "23.0% 완료 \n",
      "24.0% 완료 \n",
      "25.0% 완료 \n",
      "26.0% 완료 \n",
      "27.0% 완료 \n",
      "28.0% 완료 \n",
      "29.0% 완료 \n",
      "30.0% 완료 \n",
      "31.0% 완료 \n",
      "32.0% 완료 \n",
      "33.0% 완료 \n",
      "34.0% 완료 \n",
      "35.0% 완료 \n",
      "36.0% 완료 \n",
      "37.0% 완료 \n",
      "38.0% 완료 \n",
      "39.0% 완료 \n",
      "40.0% 완료 \n",
      "41.0% 완료 \n",
      "42.0% 완료 \n",
      "43.0% 완료 \n",
      "44.0% 완료 \n",
      "45.0% 완료 \n",
      "46.0% 완료 \n",
      "47.0% 완료 \n",
      "48.0% 완료 \n",
      "49.0% 완료 \n",
      "50.0% 완료 \n",
      "51.0% 완료 \n",
      "52.0% 완료 \n",
      "53.0% 완료 \n",
      "54.0% 완료 \n",
      "55.0% 완료 \n",
      "56.0% 완료 \n",
      "57.0% 완료 \n",
      "58.0% 완료 \n",
      "59.0% 완료 \n",
      "60.0% 완료 \n",
      "61.0% 완료 \n",
      "62.0% 완료 \n",
      "63.0% 완료 \n",
      "64.0% 완료 \n",
      "65.0% 완료 \n",
      "66.0% 완료 \n",
      "67.0% 완료 \n",
      "68.0% 완료 \n",
      "69.0% 완료 \n",
      "70.0% 완료 \n",
      "71.0% 완료 \n",
      "72.0% 완료 \n",
      "73.0% 완료 \n",
      "74.0% 완료 \n",
      "75.0% 완료 \n",
      "76.0% 완료 \n",
      "77.0% 완료 \n",
      "78.0% 완료 \n",
      "79.0% 완료 \n",
      "80.0% 완료 \n",
      "81.0% 완료 \n",
      "82.0% 완료 \n",
      "83.0% 완료 \n",
      "84.0% 완료 \n",
      "85.0% 완료 \n",
      "86.0% 완료 \n",
      "87.0% 완료 \n",
      "88.0% 완료 \n",
      "89.0% 완료 \n",
      "90.0% 완료 \n",
      "91.0% 완료 \n",
      "92.0% 완료 \n",
      "93.0% 완료 \n",
      "94.0% 완료 \n",
      "95.0% 완료 \n",
      "96.0% 완료 \n",
      "97.0% 완료 \n",
      "98.0% 완료 \n",
      "99.0% 완료 \n",
      "query: you\n",
      "we 0.6454983949661255\n",
      "i 0.6358922719955444\n",
      "anybody 0.6078313589096069\n",
      "really 0.5751152038574219\n",
      "someone 0.5415965914726257\n",
      "query: year\n",
      "month 0.6655210256576538\n",
      "quarter 0.6566182374954224\n",
      "earlier 0.6353700757026672\n",
      "last 0.623109757900238\n",
      "next 0.6192117929458618\n",
      "query: car\n",
      "luxury 0.625359296798706\n",
      "auto 0.5943848490715027\n",
      "truck 0.5876781940460205\n",
      "corsica 0.5661080479621887\n",
      "vehicle 0.5389036536216736\n",
      "query: toyota\n",
      "motor 0.7376311421394348\n",
      "motors 0.7003330588340759\n",
      "nissan 0.6735002994537354\n",
      "honda 0.6709209084510803\n",
      "lexus 0.6148232221603394\n"
     ]
    }
   ],
   "source": [
    "corpus, word2id, id2word = ptb.load_data('train')\n",
    "vocab_size = len(word2id)\n",
    "C = create_co_matrix(corpus, vocab_size, window_size)\n",
    "W = ppmi(C, verbose=True)\n",
    "\n",
    "\"\"\"\n",
    "고속 SVD - sklearn 모듈 사용\n",
    "느린 SVD - np.linalg.svd\n",
    "\"\"\"\n",
    "try:\n",
    "    from sklearn.utils.extmath import randomized_svd\n",
    "    # truncated SVD: 특이값이 큰 것만 계산하여 빠르다\n",
    "    U, S, V = randomized_svd(\n",
    "        W, \n",
    "        n_components=wordvec_size,\n",
    "        n_iter=5,\n",
    "        random_state=None\n",
    "    )\n",
    "except ImportError:\n",
    "    U, S, V = np.linalg.svd(W)\n",
    "\n",
    "word_vecs = U[:, :wordvec_size]\n",
    "for query in querys:\n",
    "    print(f'query: {query}')\n",
    "    most_similar(query, word2id, id2word, word_vecs, top=5)"
   ],
   "metadata": {
    "collapsed": false,
    "ExecuteTime": {
     "end_time": "2025-02-18T12:46:43.947690Z",
     "start_time": "2025-02-18T12:45:24.627865Z"
    }
   },
   "id": "15234268751fe837",
   "execution_count": 45
  }
 ],
 "metadata": {
  "kernelspec": {
   "display_name": "Python 3",
   "language": "python",
   "name": "python3"
  },
  "language_info": {
   "codemirror_mode": {
    "name": "ipython",
    "version": 2
   },
   "file_extension": ".py",
   "mimetype": "text/x-python",
   "name": "python",
   "nbconvert_exporter": "python",
   "pygments_lexer": "ipython2",
   "version": "2.7.6"
  }
 },
 "nbformat": 4,
 "nbformat_minor": 5
}
