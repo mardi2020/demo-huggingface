{
 "cells": [
  {
   "cell_type": "code",
   "execution_count": 3,
   "id": "initial_id",
   "metadata": {
    "collapsed": true,
    "ExecuteTime": {
     "end_time": "2025-02-16T04:27:37.819252Z",
     "start_time": "2025-02-16T04:27:31.085131Z"
    }
   },
   "outputs": [
    {
     "name": "stderr",
     "output_type": "stream",
     "text": [
      "Matplotlib is building the font cache; this may take a moment.\n"
     ]
    }
   ],
   "source": [
    "import numpy as np\n",
    "import matplotlib.pyplot as plt"
   ]
  },
  {
   "cell_type": "markdown",
   "source": [
    "### sigmoid 함수 정의\n",
    "> 선형 변환을 비선형 효과를 부여하는 활성화 함수 중 하나, 0 ~ 1 사이의 실수로 출력\n",
    "\n",
    "$$\n",
    "\\sigma(x) = \\frac{1}{1 + e^{-x}}\n",
    "$$"
   ],
   "metadata": {
    "collapsed": false
   },
   "id": "e7472c4596625315"
  },
  {
   "cell_type": "code",
   "outputs": [],
   "source": [
    "def sigmoid(x):\n",
    "    return 1 / (1 + np.exp(-x))"
   ],
   "metadata": {
    "collapsed": false,
    "ExecuteTime": {
     "end_time": "2025-02-16T04:25:56.847311Z",
     "start_time": "2025-02-16T04:25:56.844737Z"
    }
   },
   "id": "1545deb21f4c0555",
   "execution_count": 2
  },
  {
   "cell_type": "code",
   "outputs": [
    {
     "data": {
      "text/plain": "<Figure size 640x480 with 1 Axes>",
      "image/png": "[encoded data removed]"
     },
     "metadata": {},
     "output_type": "display_data"
    }
   ],
   "source": [
    "# x 값 범위 설정\n",
    "x = np.linspace(-10, 10, 400)\n",
    "y = sigmoid(x)\n",
    "\n",
    "# 그래프 그리기\n",
    "plt.plot(x, y, label=\"Sigmoid Function\", color=\"blue\")\n",
    "plt.axhline(0.5, color='red', linestyle='dashed', linewidth=0.8, label=\"y = 0.5\")\n",
    "plt.axvline(0, color='black', linestyle='dotted', linewidth=0.8, label=\"x = 0\")\n",
    "plt.xlabel(\"x\")\n",
    "plt.ylabel(\"y\")\n",
    "plt.title(\"Sigmoid Function\")\n",
    "plt.legend()\n",
    "plt.grid()\n",
    "plt.show()"
   ],
   "metadata": {
    "collapsed": false,
    "ExecuteTime": {
     "end_time": "2025-02-16T04:28:57.701499Z",
     "start_time": "2025-02-16T04:28:57.616078Z"
    }
   },
   "id": "4c082562278b464c",
   "execution_count": 4
  },
  {
   "cell_type": "code",
   "outputs": [],
   "source": [
    "\"은닉층 뉴런은 4개, 출력층의 뉴런은 3개이므로 완전연결계층에 사용되는 가중치 행렬은 4*3 형상으로 설정\"\n",
    "x = np.random.randn(10, 2) # 입력 - 2차원 데이터 10개가 미니배치로 처리\n",
    "w_1 = np.random.randn(2, 4) # 가중치\n",
    "b_1 = np.random.randn(4) # 편향\n",
    "w_2 = np.random.randn(4, 3) # 가중치\n",
    "b_2 = np.random.randn(3) # 편향\n",
    "\n",
    "h = np.matmul(x, w_1) + b_1\n",
    "\"은닉층 뉴런을 시그모이드 함수를 통하여 비선형 변환\"\n",
    "a = sigmoid(h) # a: activation, 활성화\n",
    "s = np.matmul(a, w_2) + b_2 # 최종 출력, 형상은 (10, 3) - 10개의 데이터가 한꺼번에 처리되고 3차원 데이터로 변환됨"
   ],
   "metadata": {
    "collapsed": false,
    "ExecuteTime": {
     "end_time": "2025-02-16T04:41:39.097132Z",
     "start_time": "2025-02-16T04:41:39.094218Z"
    }
   },
   "id": "ad35be030b295dde",
   "execution_count": 16
  },
  {
   "cell_type": "markdown",
   "source": [
    "이 신경망은 3차원 데이터를 출력하고, 각 차원의 값을 이용해 3 클래스 분류가 가능함\n",
    "출력된 3차원 벡터의 각 차원은 각 클래스에 대응하는 score가 되고 출력층에서 가장 큰 값을 내뱉는 뉴런에 해당하는 클래스가 예측 결과가 됨\n",
    "\n",
    "* score는 확률이 되기 전의 값임\n",
    "* 점수가 높을수록 그 뉴런에 해당하는 클래스의 확률도 높아짐\n",
    "* 점수를 softmax function에 입력하면 확률을 얻을 수 있음"
   ],
   "metadata": {
    "collapsed": false
   },
   "id": "e4772a1b316f440b"
  },
  {
   "cell_type": "markdown",
   "source": [
    "구현 규칙\n",
    "- **모든 계층은 forward, backward 메서드를 가짐**\n",
    "    - forward: 순전파\n",
    "    - backward: 역전파\n",
    "- **모든 계층은 인스턴스 변수인 params와 grads를 가짐**\n",
    "    - params: 가중치와 편향 같은 매개변수를 담는 리스트\n",
    "    - grads: params에 저장된 각 매개변수에 대응해 매개변수의 기울기를 보관하는 리스트\n",
    "\n",
    "신경망 추론 과정에서 하는 처리는 신경망의 순전파(forward propagation)에 해당함\n",
    "- 순전파: 입력층에서 출력층으로 향하는 전파\n",
    "- 역전파: 데이터(기울기)를 순전파와는 반대 방향으로 전파"
   ],
   "metadata": {
    "collapsed": false
   },
   "id": "7114bbfcbc825e9a"
  },
  {
   "cell_type": "code",
   "outputs": [],
   "source": [
    "\"\"\"\n",
    "- 완전연결계층에 의한 변환을 Affine 계층으로, sigmoid에 의한 변환을 sigmoid 계층으로 구현\n",
    "- 기본 변환을 수행하는 메서드 forward()\n",
    "\"\"\"\n",
    "\n",
    "class Sigmoid:\n",
    "    def __init__(self):\n",
    "        self.params = []\n",
    "    \n",
    "    def forward(self, x):\n",
    "        return 1 / (1 + np.exp(-x))\n",
    "    \n",
    "\n",
    "class Affine:\n",
    "    # 초기화될 때 가중치와 편향을 받음 - 신경망이 학습될 때 수시로 갱신됨\n",
    "    def __init__(self, W, b):\n",
    "        self.params = [W, b]\n",
    "    \n",
    "    def forward(self, x):\n",
    "        W, b = self.params\n",
    "        out = np.matmul(x, W) + b\n",
    "        return out"
   ],
   "metadata": {
    "collapsed": false,
    "ExecuteTime": {
     "end_time": "2025-02-16T04:50:47.818152Z",
     "start_time": "2025-02-16T04:50:47.813788Z"
    }
   },
   "id": "ebaa37252d9ddccd",
   "execution_count": 18
  },
  {
   "cell_type": "markdown",
   "source": [
    "### 구현할 신경망(TwoLayerNet)의 계층 구성\n",
    "\n",
    "$$\n",
    "X -> Affine -> Sigmoid -> Affine -> S\n",
    "$$\n",
    "\n",
    "input: X가 affine, sigmoid, affine을 거쳐 점수 S 출력"
   ],
   "metadata": {
    "collapsed": false
   },
   "id": "c9e23699b4c1cacb"
  },
  {
   "cell_type": "code",
   "outputs": [],
   "source": [
    "class TwoLayerNet:\n",
    "    \"\"\"\n",
    "    가중치 초기화 및 3개의 계층 생성\n",
    "    input_size: 입력층 뉴런 수\n",
    "    hidden_size: 은닉층 뉴런 수\n",
    "    output_size: 출력층 뉴런 수\n",
    "    \"\"\"\n",
    "    def __init__(self, input_size, hidden_size, output_size):\n",
    "        I, H, O = input_size, hidden_size, output_size\n",
    "        \n",
    "        # 정규 분포를 따르는 랜덤 값으로 초기화\n",
    "        w_1 = np.random.randn(I, H) # 입력층 -> 은닉층 연결 가중치 I * H\n",
    "        b_1 = np.random.randn(H)  # 은닉층 편향 H\n",
    "        w_2 = np.random.randn(H, O) # 은닉층 -> 출력층 연결 가중치 H * O\n",
    "        b_2 = np.random.randn(O) # 출력층의 편향 O\n",
    "        \n",
    "        self.layers = [\n",
    "            Affine(w_1, b_1), # 선형 변환 계층 (입력 -> 은닉층)\n",
    "            Sigmoid(), # 비선형 활성화 함수 계층\n",
    "            Affine(w_2, b_2) # 선형 변환 계층 (은닉층 -> 출력층)\n",
    "        ]\n",
    "        \n",
    "        # 학습해야 할 모든 가중치를 리스트에 모음\n",
    "        self.params = []\n",
    "        for layer in self.layers:\n",
    "            self.params += layer.params\n",
    "    \n",
    "    \"순전파\"\n",
    "    def predict(self, x):\n",
    "        # 입력 x를 순차적으로 각 계층에 통과시키며 순전파 수행\n",
    "        for layer in self.layers:\n",
    "            x = layer.forward(x)\n",
    "        return x # 최종 출력값 반환"
   ],
   "metadata": {
    "collapsed": false,
    "ExecuteTime": {
     "end_time": "2025-02-16T05:39:52.320973Z",
     "start_time": "2025-02-16T05:39:52.316241Z"
    }
   },
   "id": "f632acf5dc72c05d",
   "execution_count": 20
  },
  {
   "cell_type": "code",
   "outputs": [
    {
     "data": {
      "text/plain": "array([[ 2.29955785, -0.80216072,  1.74146422],\n       [ 3.04572318,  0.12921569,  3.02420303],\n       [ 3.75122376, -1.11512149,  4.15472076],\n       [ 3.80650683, -0.78530621,  3.95492371],\n       [ 3.28794744,  0.5355063 ,  3.57565178],\n       [ 3.47877838, -0.2408703 ,  3.0800183 ],\n       [ 3.23756319,  0.13611286,  3.12253667],\n       [ 3.10416248, -0.11644991,  2.77095821],\n       [ 2.75507256, -0.54416709,  2.21655067],\n       [ 4.06221483, -0.27809365,  4.18075792]])"
     },
     "execution_count": 23,
     "metadata": {},
     "output_type": "execute_result"
    }
   ],
   "source": [
    "# 신경망 추론 수행\n",
    "x = np.random.randn(10, 2)\n",
    "model = TwoLayerNet(2, 4, 3)\n",
    "s = model.predict(x)\n",
    "s"
   ],
   "metadata": {
    "collapsed": false,
    "ExecuteTime": {
     "end_time": "2025-02-16T05:40:59.344681Z",
     "start_time": "2025-02-16T05:40:59.341214Z"
    }
   },
   "id": "d39b9ac35d97df5f",
   "execution_count": 23
  },
  {
   "cell_type": "markdown",
   "source": [
    "### 손실 함수\n",
    "손실(loss): 학습 단계의 특정 시점에서 신경망의 성능을 나타내는 척도\n",
    "\n",
    "손실은 학습 데이터와 신경망이 예측한 결과를 비교하여 예측이 얼마나 나쁜가를 산출한 단일 값(스칼라)\n",
    "- loss function을 통해 신경망의 손실을 구함\n",
    "- 다중 클래스 분류 신경망에서는 손실 함수로 cross entropy error를 이용 -> 신경망이 출력하는 각 클래스의 확률과 정답 레이블을 이용해 구할 수 있음\n",
    "\n",
    "#### 손실 함수를 적용한 신경망의 계층 구성\n",
    "$$\n",
    "t(정답레이블)\n",
    "$$\n",
    "$$\n",
    "X -> Affine -> Sigmoid -> Affine -> Softmax -> Cross Entropy Error -> L\n",
    "$$\n",
    "\n",
    "- x: input\n",
    "- t: 정답레이블\n",
    "- L: 손실\n",
    "\n",
    "softmax 계층의 출력은 확률이 되어 다음 계층인 Cross Entropy Error 계층에는 확률과 정답 레이블이 입력됨"
   ],
   "metadata": {
    "collapsed": false
   },
   "id": "abb8f333d733c3bc"
  },
  {
   "cell_type": "markdown",
   "source": [
    "### softmax 함수\n",
    "\n",
    "$$\n",
    "y_k = \\frac{\\exp(s_k)}{\\sum_{i=1}^{n} \\exp(s_i)}\n",
    "$$\n",
    "\n",
    "출력이 n개일 때, k번째의 출력 $y_k$를 구하는 계산식\n",
    "- $y_k$는 k번째 클래스에 해당하는 소프트맥스 함수의 출력\n",
    "\n",
    "소프트맥스 함수의 출력의 각 원소는 0.0 ~ 1.0 이하의 실수 -> 그 원소들을 모두 더하면 1.0\n",
    "- 소프트맥스의 출력을 확률로 해석할 수 있는 이유\n",
    "\n",
    "소프트맥스의 출력인 이 확률이 다음 차례인 교차 엔트로피 오차에 입력됨\n",
    "\n",
    "### 교차 엔트로피 오차\n",
    "$$\n",
    "L = -\\sum_{k} t_k \\log y_k\n",
    "$$\n",
    "- $t_k$: k번째 클래스에 해당하는 정답 레이블\n",
    "- 정답 레이블 t = [0, 0, 1] 과 같이 one hot 벡터로 표기(원소 하나만 1, 나머지는 다 0인 벡터이며 1이면 정답)\n",
    "\n",
    "미니 배치를 고려한 교차 엔트로피 오차의 식 -> 평균 손실함수를 구함\n",
    "$$\n",
    "L = -\\frac{1}{N} \\sum_{n} \\sum_{k} t_{nk} \\log y_{nk}\n",
    "$$\n",
    "- 데이터는 N개\n",
    " - $t_{nk}$ 는 n번째 데이터의 k차원째의 값\n",
    "- $y_{nk}$는 신경망의 출력\n",
    "- $t_{nk}$는 정답레이블"
   ],
   "metadata": {
    "collapsed": false
   },
   "id": "44848713ddce66da"
  },
  {
   "cell_type": "markdown",
   "source": [
    "### 미분과 기울기\n",
    "> 신경망 학습의 목표: 손실을 최소화하는 매개변수를 찾는 것\n",
    "\n",
    "행렬에서의 기울기\n",
    "$W = m * n$ 행렬에서 $L = g(W)$ 함수의 기울기:\n",
    "$$\n",
    "\\frac{\\partial L}{\\partial \\mathbf{W}} =\n",
    "\\begin{bmatrix}\n",
    "\\frac{\\partial L}{\\partial W_{11}} & \\cdots & \\frac{\\partial L}{\\partial W_{1n}} \\\\\n",
    "\\vdots & \\ddots & \\vdots \\\\\n",
    "\\frac{\\partial L}{\\partial W_{m1}} & \\cdots & \\frac{\\partial L}{\\partial W_{mn}}\n",
    "\\end{bmatrix}\n",
    "$$\n",
    "- 각 원소  $\\frac{\\partial L}{\\partial W_{ij}}$ 는 개별 가중치  $W_{ij}$가 변화할 때 손실 L이 얼마나 변하는지를 나타냅니다.\n",
    "\n",
    "W와 $\\frac{\\partial L}{\\partial \\mathbf{W}}$ 의 형상이 같고 `행렬과 그 기우기의 형상이 같다` 성질을 이용해 매개변수 갱신과 연쇄 법칙을 쉽게 구현 가능"
   ],
   "metadata": {
    "collapsed": false
   },
   "id": "1c839cdb490da598"
  },
  {
   "cell_type": "markdown",
   "source": [
    "### 행렬에서의 기울기(Gradient)\n",
    "\n",
    "행렬에서의 기울기(Gradient)는 행렬을 구성하는 각 원소에 대한 미분 값을 의미하며, 보통 손실 함수(Loss Function) L를 특정 행렬 W에 대해 미분한 결과를 나타냅니다.\n",
    "즉, 행렬의 각 요소가 변경될 때 손실 함수가 얼마나 변하는지를 나타내는 것입니다.\n",
    "\n",
    "### 행렬 기울기의 의미\n",
    "행렬에서 기울기: 각 가중치 요소별로 손실 함수가 증가하거나 감소하는 방향을 나타내는 값\n",
    "\t•\t값이 양수: 손실  L  이 증가하는 방향 → 이 가중치를 줄여야 함\n",
    "\t•\t값이 음수: 손실  L  이 감소하는 방향 → 이 가중치를 증가시켜야 함\n",
    "\t•\t값이 0: 해당 가중치 변화가 손실에 영향을 거의 주지 않음\n",
    "\n",
    "이 개념은 경사 하강법 (Gradient Descent) 에서 중요하게 사용됩니다.\n",
    "즉, 행렬 형태의 기울기를 계산한 후, 그 방향으로 가중치를 업데이트하여 손실을 최소화하는 방향으로 학습합니다.\n",
    "\n",
    "-> 즉, 행렬의 기울기는 신경망 학습에서 “어떻게 가중치를 변경해야 손실을 줄일 수 있는지”를 알려줌"
   ],
   "metadata": {
    "collapsed": false
   },
   "id": "8eabc2e211c02022"
  },
  {
   "cell_type": "markdown",
   "source": [
    "### 연쇄법칙\n",
    "\n",
    "연쇄법칙은 composite function 의 미분을 계산하는 방법 => 합성함수의 미분은 각 단계의 미분을 곱해서 구할 수 있다는 원리\n",
    "$$\n",
    "\\frac{dz}{dx} = \\frac{dz}{dy} \\cdot \\frac{dy}{dx}\n",
    "$$\n",
    "\n",
    "### 오차역전파법\n",
    "\n",
    "오차역전파법은 신경망에서 연쇄법칙을 이용해 가중치의 기울기를 계산하는 방법\n",
    "\n",
    "신경망에서는 입력x  가 여러 층을 거쳐 최종적으로 손실  L  에 영향을 주는 복잡한 합성함수 형태를 가짐\n",
    "$$\n",
    "\n",
    "L = f_3(f_2(f_1(x)))\n",
    "\n",
    "$$\n",
    "를 미분할 때, 각 층을 거치면서 미분을 계산해야 하므로 연쇄법칙이 필수적으로 사용됨\n",
    "\n",
    "![](./src/forward_back.png)"
   ],
   "metadata": {
    "collapsed": false
   },
   "id": "698a31fcc2b374"
  },
  {
   "cell_type": "markdown",
   "source": [
    "### Repeat 노드의 순전파, 역전파\n",
    "![](./src/repeat_node.png)"
   ],
   "metadata": {
    "collapsed": false
   },
   "id": "2160f1fbed70de9"
  },
  {
   "cell_type": "code",
   "outputs": [],
   "source": [
    "D, N = 8, 7\n",
    "x = np.random.randn(1, D) # 입력\n",
    "y = np.repeat(x, N, axis=0) # 순전파 - 원소 복제 수행 배열x를 N번 복제\n",
    "dy = np.random.randn(N, D) # 무작위 기울기\n",
    "dx = np.sum(dy, axis=0, keepdims=True) # 역전파 - 차원수 유지"
   ],
   "metadata": {
    "collapsed": false,
    "ExecuteTime": {
     "end_time": "2025-02-16T06:36:21.977672Z",
     "start_time": "2025-02-16T06:36:21.975537Z"
    }
   },
   "id": "3de5a6c795e8bd19",
   "execution_count": 29
  },
  {
   "cell_type": "markdown",
   "source": [
    "### MatMul 노드\n",
    "\n",
    "![](./src/matmul.png)\n",
    "\n",
    "$y = xW$ \n",
    "\n",
    "손실함수 L이 주어졌을 때, 입력 x에 대한 손실의 변화량$\\frac{\\partial L}{\\partial \\mathbf{x}}$을 구해야함\n",
    "\n",
    "연쇄법칙을 적용하여 L을 x에 대해 미분하면\n",
    "\n",
    "$$\n",
    "\\frac{\\partial L}{\\partial \\mathbf{x}} = \\sum_j \\frac{\\partial L}{\\partial y_j} \\frac{\\partial y_j}{\\partial \\mathbf{x}}\n",
    "$$\n",
    "\n",
    "y가 MatMul 연산에 의해 계산되어\n",
    "$$\n",
    "\\frac{\\partial y_j}{\\partial x_i} = W_{ij}\n",
    "$$\n",
    "즉, 가중치 W가 직접적으로 미분값에 영향을 줌\n",
    "\n",
    "행렬 연산으로 표현하면\n",
    "$$\n",
    "\n",
    "\\frac{\\partial L}{\\partial \\mathbf{x}} = \\frac{\\partial L}{\\partial \\mathbf{y}} \\mathbf{W}^T\n",
    "$$\n",
    "\n",
    "전치행렬이 필요한 이유\n",
    "- 역전파 과정에서 입력 x와 출력 y가 서로 다른 크기를 갖고 있어서 올바른 차원으로 변환하려면 transpose가 필요함\n",
    "\n",
    "1. MatMul의 forward\n",
    "$$\n",
    "\n",
    "\\mathbf{y} = \\mathbf{x} \\mathbf{W} \\quad (1 \\times D) \\times (D \\times H) = (1 \\times H)\n",
    "\n",
    "$$\n",
    "2. MatMul의 backward\n",
    "$$\n",
    "\\frac{\\partial L}{\\partial \\mathbf{x}} = \\frac{\\partial L}{\\partial \\mathbf{y}} \\mathbf{W}^T \\quad\n",
    " (1 \\times H) \\times (H \\times D) = (1 \\times D)\n",
    "\n",
    "$$\n",
    "\n",
    "MatMul 역전파는 역추적 과정을 하는 것과 비슷합니다.\n",
    "\t•\t순전파에서는  x  가  W  를 거쳐서  y  가 나옵니다.\n",
    "\t•\t하지만 역전파할 때는 반대 방향으로 전달해야 하기 때문에  W  를 다시 되돌리는 과정이 필요합니다.\n",
    "\t•\t그런데 행렬 곱셈에서는 되돌릴 때 단순히  W  를 그대로 쓰면 안 되고, 전치(Transpose) 를 해서 올바른 방향으로 변환해야 합니다.\n",
    "\n",
    "💡 즉, MatMul의 역전파는 “전치 행렬을 이용해 원래 입력 방향으로 영향을 돌려주는 과정”이라고 생각하면 됩니다! 🚀"
   ],
   "metadata": {
    "collapsed": false
   },
   "id": "22f181922c85ae84"
  },
  {
   "cell_type": "code",
   "outputs": [],
   "source": [
    "class MatMul:\n",
    "    def __init__(self, W):\n",
    "        self.params = [W]\n",
    "        self.grads = [np.zeros_like(W)]\n",
    "        self.x = None\n",
    "    \n",
    "    def forward(self, x):\n",
    "        W, = self.params\n",
    "        out = np.matmul(x, W)\n",
    "        self.x = x\n",
    "        return out\n",
    "    \n",
    "    def backward(self, dout):\n",
    "        W, = self.params\n",
    "        dx = np.matmul(dout, W.T)\n",
    "        dW = np.matmul(self.x.T, dout)\n",
    "        self.grads[0][...] = dW\n",
    "        return dx"
   ],
   "metadata": {
    "collapsed": false,
    "ExecuteTime": {
     "end_time": "2025-02-16T07:02:34.724395Z",
     "start_time": "2025-02-16T07:02:34.721754Z"
    }
   },
   "id": "ee9ae715f69b2220",
   "execution_count": 30
  },
  {
   "cell_type": "code",
   "outputs": [],
   "source": [
    "class Sigmoid:\n",
    "    def __init__(self):\n",
    "        self.params, self.grads = [], []\n",
    "        self.out = None\n",
    "        \n",
    "    \n",
    "    def forwar(self, x):\n",
    "        out = 1 / (1 + np.exp(-x))\n",
    "        self.out = out\n",
    "        return out\n",
    "    \n",
    "    def backward(self, dout):\n",
    "        dx = dout * (1.0 - self.out) * self.out\n",
    "        return dx"
   ],
   "metadata": {
    "collapsed": false,
    "ExecuteTime": {
     "end_time": "2025-02-16T07:05:02.928220Z",
     "start_time": "2025-02-16T07:05:02.924865Z"
    }
   },
   "id": "d891e0d333d43e9d",
   "execution_count": 32
  },
  {
   "cell_type": "code",
   "outputs": [],
   "source": [],
   "metadata": {
    "collapsed": false
   },
   "id": "70fdeab93e52f37b"
  }
 ],
 "metadata": {
  "kernelspec": {
   "display_name": "Python 3",
   "language": "python",
   "name": "python3"
  },
  "language_info": {
   "codemirror_mode": {
    "name": "ipython",
    "version": 2
   },
   "file_extension": ".py",
   "mimetype": "text/x-python",
   "name": "python",
   "nbconvert_exporter": "python",
   "pygments_lexer": "ipython2",
   "version": "2.7.6"
  }
 },
 "nbformat": 4,
 "nbformat_minor": 5
}
